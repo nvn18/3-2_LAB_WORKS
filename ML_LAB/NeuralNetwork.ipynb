{
 "cells": [
  {
   "cell_type": "markdown",
   "id": "d46c631f",
   "metadata": {},
   "source": [
    "## Build an Artificial Neural Network by implementing the Backpropagation algorithm and test the same using appropriate data sets. "
   ]
  },
  {
   "cell_type": "markdown",
   "id": "aa51b550",
   "metadata": {},
   "source": [
    "<img src=\"neu.png\" width=600 height=300>"
   ]
  },
  {
   "cell_type": "code",
   "execution_count": 2,
   "id": "12162dee",
   "metadata": {},
   "outputs": [],
   "source": [
    "import numpy as np\n",
    "import pandas as pd"
   ]
  },
  {
   "cell_type": "code",
   "execution_count": 3,
   "id": "c63a8dd6",
   "metadata": {},
   "outputs": [
    {
     "data": {
      "text/html": [
       "<div>\n",
       "<style scoped>\n",
       "    .dataframe tbody tr th:only-of-type {\n",
       "        vertical-align: middle;\n",
       "    }\n",
       "\n",
       "    .dataframe tbody tr th {\n",
       "        vertical-align: top;\n",
       "    }\n",
       "\n",
       "    .dataframe thead th {\n",
       "        text-align: right;\n",
       "    }\n",
       "</style>\n",
       "<table border=\"1\" class=\"dataframe\">\n",
       "  <thead>\n",
       "    <tr style=\"text-align: right;\">\n",
       "      <th></th>\n",
       "      <th>x</th>\n",
       "      <th>y</th>\n",
       "      <th>target</th>\n",
       "    </tr>\n",
       "  </thead>\n",
       "  <tbody>\n",
       "    <tr>\n",
       "      <th>0</th>\n",
       "      <td>2</td>\n",
       "      <td>9</td>\n",
       "      <td>92</td>\n",
       "    </tr>\n",
       "    <tr>\n",
       "      <th>1</th>\n",
       "      <td>1</td>\n",
       "      <td>5</td>\n",
       "      <td>86</td>\n",
       "    </tr>\n",
       "    <tr>\n",
       "      <th>2</th>\n",
       "      <td>3</td>\n",
       "      <td>6</td>\n",
       "      <td>89</td>\n",
       "    </tr>\n",
       "  </tbody>\n",
       "</table>\n",
       "</div>"
      ],
      "text/plain": [
       "   x  y  target\n",
       "0  2  9      92\n",
       "1  1  5      86\n",
       "2  3  6      89"
      ]
     },
     "execution_count": 3,
     "metadata": {},
     "output_type": "execute_result"
    }
   ],
   "source": [
    "data = pd.read_csv('NN.csv')\n",
    "data"
   ]
  },
  {
   "cell_type": "code",
   "execution_count": 43,
   "id": "b30ce015",
   "metadata": {},
   "outputs": [],
   "source": [
    "def NerualNetworks(training,target,weights,layers,n=0.95):\n",
    "    for unit in weights:\n",
    "        print(unit,\":\",end=\" \")\n",
    "        print(weights[unit])\n",
    "    print(\"*************************\")\n",
    "    training  = training/ np.amax(training,axis=0)\n",
    "    target=target / 100\n",
    "    epochs = 5\n",
    "    for row in range(len(training)):\n",
    "        inputs,outputs,erros = [0]*5,[0]*5,[0]*5\n",
    "        inputs[0],inputs[1] = training[row][0] , training[row][1]\n",
    "        \n",
    "        print(f\"Normalized INputs:{training[row]}\")\n",
    "        print(f\"Excepted Normalized Inputs:{target[row]}\")\n",
    "        \n",
    "        for epoch in range(epochs):\n",
    "            for i in layers.get('input',[]):\n",
    "                outputs[i] = inputs[i]\n",
    "                \n",
    "            for j in layers.get('hidden',[]):\n",
    "                inputs[j] = sum([weights[i][j]*outputs[i] for i in layers['input']]) + bais[j]\n",
    "                outputs[j] = 1.0/(1+np.exp(-inputs[i]))\n",
    "                \n",
    "            for k in layers.get('output',[]):\n",
    "                inputs[k] = sum([weights[j][k]*outputs[j] for j in layers['hidden']]) + bais[k]\n",
    "                outputs[k] = 1.0/(1+np.exp(-inputs[k]))\n",
    "                erros[k] = outputs[k]*(1-outputs[k]) * (target[i] - outputs[k])\n",
    "            for i in layers.get(\"hidden\",[]):\n",
    "                erros[i] = outputs[i]*(1-outputs[i])*sum([erros[j]*weights[i][j] for j in layers.get(\"ouput\",[])])\n",
    "            for i in weights:\n",
    "                for j in weights[i]:\n",
    "                    dw = n*erros[j]*outputs[i]\n",
    "                    weights[i][j]+=dw\n",
    "            for i in layers[\"output\"] + layers[\"hidden\"]:\n",
    "                db = n* erros[i]\n",
    "                bais[i] += db\n",
    "        print(f\"After epoch {epochs}\")\n",
    "        print(f\"output: {outputs[4]}\")"
   ]
  },
  {
   "cell_type": "code",
   "execution_count": 44,
   "id": "3dce039d",
   "metadata": {},
   "outputs": [
    {
     "name": "stdout",
     "output_type": "stream",
     "text": [
      "0 : {2: 0.7227386450013717, 3: -0.6018157832389048}\n",
      "1 : {2: -0.8223816924923855, 3: 0.9533939795172324}\n",
      "2 : {4: -0.7682661631129706}\n",
      "3 : {4: -0.19642073898547485}\n",
      "*************************\n",
      "Normalized INputs:[0.66666667 1.        ]\n",
      "Excepted Normalized Inputs:0.92\n",
      "After epoch 5\n",
      "output: 0.5388644616865369\n",
      "Normalized INputs:[0.33333333 0.55555556]\n",
      "Excepted Normalized Inputs:0.86\n",
      "After epoch 5\n",
      "output: 0.6733555198658719\n",
      "Normalized INputs:[1.         0.66666667]\n",
      "Excepted Normalized Inputs:0.89\n",
      "After epoch 5\n",
      "output: 0.7348348139200844\n"
     ]
    }
   ],
   "source": [
    "training = data[['x','y']].to_numpy()\n",
    "target = data['target'].to_numpy()\n",
    "layers ={'input':[0,1],'hidden':[2,3],'output':[4]}\n",
    "weights={}\n",
    "\n",
    "for i in layers.get('input',[]):\n",
    "    d={}\n",
    "    for j in layers.get('hidden',[]):\n",
    "        d[j] = np.random.uniform(-1,1)\n",
    "    weights[i] = d\n",
    "for i in layers.get('hidden',[]):\n",
    "    d={}\n",
    "    for j in layers.get('output',[]):\n",
    "        d[j] = np.random.uniform(-1,1)\n",
    "    weights[i] = d\n",
    "\n",
    "bais = np.random.uniform(low=-1,high=1,size=(5,))\n",
    "\n",
    "NerualNetworks(training,target,weights,layers, n = 0.95)"
   ]
  },
  {
   "cell_type": "code",
   "execution_count": null,
   "id": "86057478",
   "metadata": {},
   "outputs": [],
   "source": []
  }
 ],
 "metadata": {
  "kernelspec": {
   "display_name": "Python 3 (ipykernel)",
   "language": "python",
   "name": "python3"
  },
  "language_info": {
   "codemirror_mode": {
    "name": "ipython",
    "version": 3
   },
   "file_extension": ".py",
   "mimetype": "text/x-python",
   "name": "python",
   "nbconvert_exporter": "python",
   "pygments_lexer": "ipython3",
   "version": "3.11.3"
  }
 },
 "nbformat": 4,
 "nbformat_minor": 5
}
