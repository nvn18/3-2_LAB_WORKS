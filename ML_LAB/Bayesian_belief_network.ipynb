{
 "cells": [
  {
   "cell_type": "markdown",
   "id": "73508e02-feca-4c6e-b92c-5e99119a1fec",
   "metadata": {},
   "source": [
    "# 5. Write a program to construct a Bayesian network considering medical data. Use this model to demonstrate the diagnosis the of heart patients using standard heart disease data set. You can use Python ML Library classes /API."
   ]
  },
  {
   "cell_type": "code",
   "execution_count": 3,
   "id": "e1f04be1-289d-4652-aa87-acea0f01de51",
   "metadata": {},
   "outputs": [],
   "source": [
    "import numpy as np\n",
    "import pandas as pd\n",
    "import csv\n",
    "from pgmpy.estimators import MaximumLikelihoodEstimator\n",
    "from pgmpy.models import BayesianNetwork\n",
    "from pgmpy.inference import VariableElimination"
   ]
  },
  {
   "cell_type": "code",
   "execution_count": 4,
   "id": "a60236a6-bf9d-4511-90f0-937a34b9bf26",
   "metadata": {},
   "outputs": [],
   "source": [
    "heartDisease = pd.read_csv('./heart.csv')\n",
    "heartDisease = heartDisease.replace('?', np.nan)"
   ]
  },
  {
   "cell_type": "code",
   "execution_count": 7,
   "id": "e4f3833f-6034-459a-9da7-f9990b575d12",
   "metadata": {},
   "outputs": [
    {
     "name": "stdout",
     "output_type": "stream",
     "text": [
      "Sample instances from dataset are given below:\n",
      "   age  sex  cp  trestbps  chol  fbs  restecg  thalach  exang  oldpeak  slope  \\\n",
      "0   63    1   3       145   233    1        0      150      0      2.3      0   \n",
      "1   37    1   2       130   250    0        1      187      0      3.5      0   \n",
      "2   41    0   1       130   204    0        0      172      0      1.4      2   \n",
      "3   56    1   1       120   236    0        1      178      0      0.8      2   \n",
      "4   57    0   0       120   354    0        1      163      1      0.6      2   \n",
      "\n",
      "   ca  thal  target  \n",
      "0   0     1       1  \n",
      "1   0     2       1  \n",
      "2   0     2       1  \n",
      "3   0     2       1  \n",
      "4   0     2       1  \n"
     ]
    }
   ],
   "source": [
    "print(\"Sample instances from dataset are given below:\")\n",
    "print(heartDisease.head())"
   ]
  },
  {
   "cell_type": "code",
   "execution_count": 8,
   "id": "b9cb82f9-4df6-4d6e-8243-cd693ed4aaa9",
   "metadata": {},
   "outputs": [
    {
     "name": "stdout",
     "output_type": "stream",
     "text": [
      "Attributes and datatypes: \n",
      "age           int64\n",
      "sex           int64\n",
      "cp            int64\n",
      "trestbps      int64\n",
      "chol          int64\n",
      "fbs           int64\n",
      "restecg       int64\n",
      "thalach       int64\n",
      "exang         int64\n",
      "oldpeak     float64\n",
      "slope         int64\n",
      "ca            int64\n",
      "thal          int64\n",
      "target        int64\n",
      "dtype: object\n"
     ]
    }
   ],
   "source": [
    "print(\"Attributes and datatypes: \")\n",
    "print(heartDisease.dtypes)"
   ]
  },
  {
   "cell_type": "code",
   "execution_count": 9,
   "id": "c300bdd3-f5c8-400d-b2b0-f332200bdaf8",
   "metadata": {},
   "outputs": [],
   "source": [
    "model = BayesianNetwork([('age', 'target'), ('sex', 'target'), ('exang', 'target'), ('cp', 'target'), ('target', 'restecg'), \\\n",
    "                      ('target', 'chol')])\n",
    "model.fit(heartDisease, estimator=MaximumLikelihoodEstimator)"
   ]
  },
  {
   "cell_type": "code",
   "execution_count": 10,
   "id": "620e0a10-567b-4e50-ba48-a38ea3541f87",
   "metadata": {},
   "outputs": [
    {
     "name": "stdout",
     "output_type": "stream",
     "text": [
      "Inferencing with Bayesian Network: \n",
      "1. Probability of HeartDisease given evidence =restecg :1\n",
      "+-----------+---------------+\n",
      "| target    |   phi(target) |\n",
      "+===========+===============+\n",
      "| target(0) |        0.4242 |\n",
      "+-----------+---------------+\n",
      "| target(1) |        0.5758 |\n",
      "+-----------+---------------+\n",
      "\n",
      "2. Probability of HeartDisease given evidence = cp:2\n",
      "+-----------+---------------+\n",
      "| target    |   phi(target) |\n",
      "+===========+===============+\n",
      "| target(0) |        0.3755 |\n",
      "+-----------+---------------+\n",
      "| target(1) |        0.6245 |\n",
      "+-----------+---------------+\n"
     ]
    }
   ],
   "source": [
    "print(\"Inferencing with Bayesian Network: \")\n",
    "HeartDisease_infer = VariableElimination(model)\n",
    "print('1. Probability of HeartDisease given evidence =restecg :1')\n",
    "q1 = HeartDisease_infer.query(variables=['target'], evidence={\"restecg\": 1})\n",
    "print(q1)\n",
    "\n",
    "print('\\n2. Probability of HeartDisease given evidence = cp:2')\n",
    "q2 = HeartDisease_infer.query(variables=['target'], evidence={\"cp\": 2})\n",
    "print(q2)"
   ]
  }
 ],
 "metadata": {
  "kernelspec": {
   "display_name": "Python 3 (ipykernel)",
   "language": "python",
   "name": "python3"
  },
  "language_info": {
   "codemirror_mode": {
    "name": "ipython",
    "version": 3
   },
   "file_extension": ".py",
   "mimetype": "text/x-python",
   "name": "python",
   "nbconvert_exporter": "python",
   "pygments_lexer": "ipython3",
   "version": "3.11.2"
  }
 },
 "nbformat": 4,
 "nbformat_minor": 5
}
