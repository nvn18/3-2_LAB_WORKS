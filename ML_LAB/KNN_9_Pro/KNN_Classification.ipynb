{
 "cells": [
  {
   "cell_type": "markdown",
   "id": "7e174c2b",
   "metadata": {},
   "source": [
    "# #Write a program to implement k-Nearest Neighbor algorithm to classify the iris data set. Print both correct and wrong predictions. Python ML library classes can be used for this problem. "
   ]
  },
  {
   "cell_type": "code",
   "execution_count": 88,
   "id": "b8ae4496",
   "metadata": {},
   "outputs": [],
   "source": [
    "from sklearn import datasets \n",
    "from sklearn.neighbors import KNeighborsClassifier\n",
    "from sklearn.model_selection import train_test_split\n",
    "from sklearn.metrics import accuracy_score\n",
    "from sklearn.metrics import (\n",
    "    accuracy_score,\n",
    "    confusion_matrix,\n",
    "    ConfusionMatrixDisplay,\n",
    "    f1_score,\n",
    "    classification_report\n",
    ")"
   ]
  },
  {
   "cell_type": "code",
   "execution_count": 89,
   "id": "72d9fd08",
   "metadata": {},
   "outputs": [],
   "source": [
    "def KNNClassification():\n",
    "    data = datasets.load_iris()\n",
    "    correct=0\n",
    "    X_train, X_test, y_train, y_test = train_test_split(data[\"data\"], data[\"target\"], random_state=0)\n",
    "\n",
    "    knn = KNeighborsClassifier(n_neighbors=1)\n",
    "    knn.fit(X_train, y_train)\n",
    "\n",
    "    y_pred = knn.predict(X_test)\n",
    "\n",
    "    for i in range(len(X_test)):\n",
    "            x=X_test[i]\n",
    "            x_new=np.array([x])\n",
    "            prediction=knn.predict(x_new)\n",
    "            print(\"samples:\",x_new,\"target=\",y_test[i],\"predicited=\",prediction)\n",
    "            \n",
    "            if(y_test[i] == y_pred[i]):correct+=1\n",
    "    accuracy = classification_report(y_test, y_pred)\n",
    "    print(accuracy)\n",
    "    print(f\" {correct} correct predictions among the {y_test.shape[0]} predicitions\")"
   ]
  },
  {
   "cell_type": "code",
   "execution_count": 90,
   "id": "9e701225",
   "metadata": {},
   "outputs": [
    {
     "name": "stdout",
     "output_type": "stream",
     "text": [
      "samples: [[5.8 2.8 5.1 2.4]] target= 2 predicited= [2]\n",
      "samples: [[6.  2.2 4.  1. ]] target= 1 predicited= [1]\n",
      "samples: [[5.5 4.2 1.4 0.2]] target= 0 predicited= [0]\n",
      "samples: [[7.3 2.9 6.3 1.8]] target= 2 predicited= [2]\n",
      "samples: [[5.  3.4 1.5 0.2]] target= 0 predicited= [0]\n",
      "samples: [[6.3 3.3 6.  2.5]] target= 2 predicited= [2]\n",
      "samples: [[5.  3.5 1.3 0.3]] target= 0 predicited= [0]\n",
      "samples: [[6.7 3.1 4.7 1.5]] target= 1 predicited= [1]\n",
      "samples: [[6.8 2.8 4.8 1.4]] target= 1 predicited= [1]\n",
      "samples: [[6.1 2.8 4.  1.3]] target= 1 predicited= [1]\n",
      "samples: [[6.1 2.6 5.6 1.4]] target= 2 predicited= [2]\n",
      "samples: [[6.4 3.2 4.5 1.5]] target= 1 predicited= [1]\n",
      "samples: [[6.1 2.8 4.7 1.2]] target= 1 predicited= [1]\n",
      "samples: [[6.5 2.8 4.6 1.5]] target= 1 predicited= [1]\n",
      "samples: [[6.1 2.9 4.7 1.4]] target= 1 predicited= [1]\n",
      "samples: [[4.9 3.6 1.4 0.1]] target= 0 predicited= [0]\n",
      "samples: [[6.  2.9 4.5 1.5]] target= 1 predicited= [1]\n",
      "samples: [[5.5 2.6 4.4 1.2]] target= 1 predicited= [1]\n",
      "samples: [[4.8 3.  1.4 0.3]] target= 0 predicited= [0]\n",
      "samples: [[5.4 3.9 1.3 0.4]] target= 0 predicited= [0]\n",
      "samples: [[5.6 2.8 4.9 2. ]] target= 2 predicited= [2]\n",
      "samples: [[5.6 3.  4.5 1.5]] target= 1 predicited= [1]\n",
      "samples: [[4.8 3.4 1.9 0.2]] target= 0 predicited= [0]\n",
      "samples: [[4.4 2.9 1.4 0.2]] target= 0 predicited= [0]\n",
      "samples: [[6.2 2.8 4.8 1.8]] target= 2 predicited= [2]\n",
      "samples: [[4.6 3.6 1.  0.2]] target= 0 predicited= [0]\n",
      "samples: [[5.1 3.8 1.9 0.4]] target= 0 predicited= [0]\n",
      "samples: [[6.2 2.9 4.3 1.3]] target= 1 predicited= [1]\n",
      "samples: [[5.  2.3 3.3 1. ]] target= 1 predicited= [1]\n",
      "samples: [[5.  3.4 1.6 0.4]] target= 0 predicited= [0]\n",
      "samples: [[6.4 3.1 5.5 1.8]] target= 2 predicited= [2]\n",
      "samples: [[5.4 3.  4.5 1.5]] target= 1 predicited= [1]\n",
      "samples: [[5.2 3.5 1.5 0.2]] target= 0 predicited= [0]\n",
      "samples: [[6.1 3.  4.9 1.8]] target= 2 predicited= [2]\n",
      "samples: [[6.4 2.8 5.6 2.2]] target= 2 predicited= [2]\n",
      "samples: [[5.2 2.7 3.9 1.4]] target= 1 predicited= [1]\n",
      "samples: [[5.7 3.8 1.7 0.3]] target= 0 predicited= [0]\n",
      "samples: [[6.  2.7 5.1 1.6]] target= 1 predicited= [2]\n",
      "              precision    recall  f1-score   support\n",
      "\n",
      "           0       1.00      1.00      1.00        13\n",
      "           1       1.00      0.94      0.97        16\n",
      "           2       0.90      1.00      0.95         9\n",
      "\n",
      "    accuracy                           0.97        38\n",
      "   macro avg       0.97      0.98      0.97        38\n",
      "weighted avg       0.98      0.97      0.97        38\n",
      "\n",
      " 37 correct predictions among the 38 predicitions\n"
     ]
    }
   ],
   "source": [
    "KNNClassification()"
   ]
  },
  {
   "cell_type": "code",
   "execution_count": null,
   "id": "5f4ed1a4",
   "metadata": {},
   "outputs": [],
   "source": []
  }
 ],
 "metadata": {
  "kernelspec": {
   "display_name": "Python 3 (ipykernel)",
   "language": "python",
   "name": "python3"
  },
  "language_info": {
   "codemirror_mode": {
    "name": "ipython",
    "version": 3
   },
   "file_extension": ".py",
   "mimetype": "text/x-python",
   "name": "python",
   "nbconvert_exporter": "python",
   "pygments_lexer": "ipython3",
   "version": "3.11.3"
  }
 },
 "nbformat": 4,
 "nbformat_minor": 5
}
