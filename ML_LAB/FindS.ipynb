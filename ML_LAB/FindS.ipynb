{
 "cells": [
  {
   "cell_type": "markdown",
   "id": "17caf62d-3d5b-4fce-b103-f1374315ecd5",
   "metadata": {},
   "source": [
    "## Implement and demonstrate the FIND-S algorithm to finding the most specific hypothesis based on a given set of data samples. Read the training data from a .CSV file. "
   ]
  },
  {
   "cell_type": "code",
   "execution_count": 1,
   "id": "ec2572f8-506d-49fe-b017-a8c3389f4ac4",
   "metadata": {},
   "outputs": [],
   "source": [
    "import pandas as pd"
   ]
  },
  {
   "cell_type": "code",
   "execution_count": 2,
   "id": "36ff2a56-c89a-43ad-ac62-f557a868d52d",
   "metadata": {},
   "outputs": [],
   "source": [
    "data = pd.read_csv('enjoySport.csv')"
   ]
  },
  {
   "cell_type": "code",
   "execution_count": 3,
   "id": "1dc5ddac-97c4-4f18-bc8d-86ef4bf47c81",
   "metadata": {},
   "outputs": [
    {
     "name": "stdout",
     "output_type": "stream",
     "text": [
      "['sunny', 'warm', 'high', 'strong', 'cool', 'change']\n",
      "['sunny', 'warm', '?', 'strong', '?', '?']\n",
      "['sunny', 'warm', '?', 'strong', '?', '?']\n",
      "['sunny', 'warm', '?', 'strong', '?', '?']\n"
     ]
    }
   ],
   "source": [
    "h = []\n",
    "for i in range(data.shape[0]):\n",
    "    if data.iloc[i, -1] == 'yes':\n",
    "        h = list (data.iloc[i, :-1])\n",
    "print(h)\n",
    "\n",
    "for i in range(data.shape[0]):\n",
    "    if data.iloc[i, -1] == 'yes':\n",
    "        for j in range(len(h)):\n",
    "            if h[j] != data.iloc[i, j]:\n",
    "                h[j] = '?'\n",
    "        print(h)"
   ]
  }
 ],
 "metadata": {
  "kernelspec": {
   "display_name": "Python 3 (ipykernel)",
   "language": "python",
   "name": "python3"
  },
  "language_info": {
   "codemirror_mode": {
    "name": "ipython",
    "version": 3
   },
   "file_extension": ".py",
   "mimetype": "text/x-python",
   "name": "python",
   "nbconvert_exporter": "python",
   "pygments_lexer": "ipython3",
   "version": "3.11.2"
  }
 },
 "nbformat": 4,
 "nbformat_minor": 5
}
