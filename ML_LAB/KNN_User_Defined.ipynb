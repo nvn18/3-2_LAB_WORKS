{
 "cells": [
  {
   "cell_type": "markdown",
   "id": "a065166b-4a61-40f8-bfa0-7c2ab6c9c90c",
   "metadata": {},
   "source": [
    "# Write a program to implement k-Nearest Neighbor algorithm to classify the iris data set. Print both correct and wrong predictions. Python ML library classes can be used for this problem. "
   ]
  },
  {
   "cell_type": "code",
   "execution_count": 1,
   "id": "0d4d59ee-622f-4cdc-b8a6-4759b3e6b0ae",
   "metadata": {},
   "outputs": [],
   "source": [
    "import numpy as np\n",
    "import pandas as pd\n",
    "from sklearn.model_selection import train_test_split\n",
    "from sklearn.metrics import classification_report\n",
    "from sklearn import datasets\n",
    "from collections import Counter"
   ]
  },
  {
   "cell_type": "code",
   "execution_count": 95,
   "id": "54c4e2ad-ca67-481c-bad9-ad9f017a3a96",
   "metadata": {},
   "outputs": [],
   "source": [
    "iris = datasets.load_iris()"
   ]
  },
  {
   "cell_type": "code",
   "execution_count": 96,
   "id": "4368b607-11df-488b-8fdc-61f357a65a32",
   "metadata": {},
   "outputs": [],
   "source": [
    "x_train, x_test, y_train, y_test = train_test_split(iris.data, iris.target, test_size=0.1)"
   ]
  },
  {
   "cell_type": "code",
   "execution_count": 97,
   "id": "a2aca65e-7a18-4c75-8316-769953f311cc",
   "metadata": {},
   "outputs": [],
   "source": [
    "k = int(input(\"Enter the K value:\"))"
   ]
  },
  {
   "cell_type": "code",
   "execution_count": 98,
   "id": "8e91dc9e-e84e-427a-9c08-32d42a866b2e",
   "metadata": {},
   "outputs": [],
   "source": [
    "y_pred = np.array([], dtype=int)\n",
    "\n",
    "for test in x_test:\n",
    "    dis = np.array([])\n",
    "    for train in x_train:\n",
    "        v = np.sqrt(sum([(test[i]-train[i])**2 for i in range(train.shape[0])]))\n",
    "        dis = np.append(dis, [v])\n",
    "    nearest_indices = np.argsort(dis)[:k]\n",
    "    nearest_labels = y_train[nearest_indices]\n",
    "    counter = Counter(nearest_labels)\n",
    "    most_common_label = counter.most_common(1)[0][0]\n",
    "    y_pred = np.append(y_pred, [most_common_label])"
   ]
  },
  {
   "cell_type": "code",
   "execution_count": 99,
   "id": "a3f6d3ca-7a38-4254-aef9-a9f247bff171",
   "metadata": {},
   "outputs": [],
   "source": [
    "confusion_matrix = pd.DataFrame([[0, 0, 0],[0, 0, 0], [0, 0, 0]], columns=[0, 1, 2], index=[0, 1, 2])\n",
    "correct = 0"
   ]
  },
  {
   "cell_type": "code",
   "execution_count": 100,
   "id": "85ce279f-98ba-4b0e-9007-5851c779f014",
   "metadata": {},
   "outputs": [
    {
     "name": "stdout",
     "output_type": "stream",
     "text": [
      "Sample: [5.1 3.8 1.5 0.3], Actual Label: 0, Predicted Label: 0\n",
      "Sample: [7.2 3.6 6.1 2.5], Actual Label: 2, Predicted Label: 2\n",
      "Sample: [7.9 3.8 6.4 2. ], Actual Label: 2, Predicted Label: 2\n",
      "Sample: [6.  3.4 4.5 1.6], Actual Label: 1, Predicted Label: 1\n",
      "Sample: [5.5 2.4 3.7 1. ], Actual Label: 1, Predicted Label: 1\n",
      "Sample: [5.3 3.7 1.5 0.2], Actual Label: 0, Predicted Label: 0\n",
      "Sample: [6.2 2.8 4.8 1.8], Actual Label: 2, Predicted Label: 2\n",
      "Sample: [7.7 2.6 6.9 2.3], Actual Label: 2, Predicted Label: 2\n",
      "Sample: [5.1 3.5 1.4 0.2], Actual Label: 0, Predicted Label: 0\n",
      "Sample: [4.3 3.  1.1 0.1], Actual Label: 0, Predicted Label: 0\n",
      "Sample: [6.5 3.  5.8 2.2], Actual Label: 2, Predicted Label: 2\n",
      "Sample: [6.  2.7 5.1 1.6], Actual Label: 1, Predicted Label: 2\n",
      "Sample: [5.7 4.4 1.5 0.4], Actual Label: 0, Predicted Label: 0\n",
      "Sample: [5.8 2.7 3.9 1.2], Actual Label: 1, Predicted Label: 1\n",
      "Sample: [6.7 3.1 4.4 1.4], Actual Label: 1, Predicted Label: 1\n",
      "14 number of correct classifications out of 15\n",
      "   0  1  2\n",
      "0  5  0  0\n",
      "1  0  4  1\n",
      "2  0  0  5\n",
      "              precision    recall  f1-score   support\n",
      "\n",
      "           0       1.00      1.00      1.00         5\n",
      "           1       1.00      0.80      0.89         5\n",
      "           2       0.83      1.00      0.91         5\n",
      "\n",
      "    accuracy                           0.93        15\n",
      "   macro avg       0.94      0.93      0.93        15\n",
      "weighted avg       0.94      0.93      0.93        15\n",
      "\n"
     ]
    }
   ],
   "source": [
    "for i in range(y_test.shape[0]):\n",
    "    print(f\"Sample: {x_test[i]}, Actual Label: {y_test[i]}, Predicted Label: {y_pred[i]}\")\n",
    "    if y_test[i] == y_pred[i]: correct += 1\n",
    "    confusion_matrix.iloc[y_test[i], y_pred[i]] += 1\n",
    "\n",
    "print(f\"{correct} number of correct classifications out of {y_pred.shape[0]}\")\n",
    "print(confusion_matrix)\n",
    "print(classification_report(y_test, y_pred))"
   ]
  }
 ],
 "metadata": {
  "kernelspec": {
   "display_name": "Python 3 (ipykernel)",
   "language": "python",
   "name": "python3"
  },
  "language_info": {
   "codemirror_mode": {
    "name": "ipython",
    "version": 3
   },
   "file_extension": ".py",
   "mimetype": "text/x-python",
   "name": "python",
   "nbconvert_exporter": "python",
   "pygments_lexer": "ipython3",
   "version": "3.11.3"
  }
 },
 "nbformat": 4,
 "nbformat_minor": 5
}
