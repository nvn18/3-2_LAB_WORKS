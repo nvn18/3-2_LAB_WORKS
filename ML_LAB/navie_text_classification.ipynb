{
 "cells": [
  {
   "cell_type": "markdown",
   "id": "3e7c83ed-918a-4eb6-b570-5bc3781ad147",
   "metadata": {},
   "source": [
    "# 4. Assuming a set of documents that need to be classified, use the naïve Bayesian classifier model to perform this task. Built-in classes /API can be used to write the program. Calculate the accuracy precision and recall for your data set."
   ]
  },
  {
   "cell_type": "code",
   "execution_count": 103,
   "id": "efe22902-7f5d-4313-b8da-2a4f12869f2e",
   "metadata": {},
   "outputs": [],
   "source": [
    "import pandas as pd\n",
    "import numpy as np\n",
    "from sklearn.model_selection import train_test_split"
   ]
  },
  {
   "cell_type": "code",
   "execution_count": 104,
   "id": "bef0134c-9ddd-4196-bb76-96a9e91c5b46",
   "metadata": {},
   "outputs": [],
   "source": [
    "df = pd.read_csv('./text_classification.csv')"
   ]
  },
  {
   "cell_type": "code",
   "execution_count": 105,
   "id": "b0fa3262-837b-4da2-91b0-9456d3f15f15",
   "metadata": {},
   "outputs": [],
   "source": [
    "X, Y = df['Text'], df['label']\n",
    "\n",
    "x_train, x_test, y_train, y_test = train_test_split(X, Y, shuffle=False)"
   ]
  },
  {
   "cell_type": "code",
   "execution_count": 106,
   "id": "de68cf0f-d875-4064-acdf-b0060ec01986",
   "metadata": {},
   "outputs": [],
   "source": [
    "vocabulary = []\n",
    "for row in range(x_train.shape[0]):\n",
    "    vocabulary.extend(x_train.iloc[row].lower().split())\n",
    "vocabulary = sorted(list(set(vocabulary)))"
   ]
  },
  {
   "cell_type": "code",
   "execution_count": 107,
   "id": "1b941981-c58d-461d-aa7f-90dd21219dd7",
   "metadata": {},
   "outputs": [],
   "source": [
    "probPos = y_train[y_train=='pos'].count() / y_train.count()\n",
    "probNeg = y_train[y_train=='neg'].count() / y_train.count()"
   ]
  },
  {
   "cell_type": "code",
   "execution_count": 108,
   "id": "6cc8d21e-ce0a-4939-8fbc-7262137f0515",
   "metadata": {},
   "outputs": [],
   "source": [
    "textPos = []\n",
    "for t in x_train[y_train=='pos']:\n",
    "    textPos.extend(t.lower().split())\n",
    "textPos = sorted(textPos)\n",
    "nPos = len(set(textPos))"
   ]
  },
  {
   "cell_type": "code",
   "execution_count": 109,
   "id": "3f7f4cab-5d8c-4a99-90d0-3ebe15f90472",
   "metadata": {},
   "outputs": [],
   "source": [
    "textNeg = []\n",
    "for t in x_train[y_train=='neg']:\n",
    "    textNeg.extend(t.lower().split())\n",
    "textNeg = sorted(textNeg)\n",
    "nNeg = len(set(textNeg))"
   ]
  },
  {
   "cell_type": "code",
   "execution_count": 110,
   "id": "40e643e0-1d41-42a0-a114-e361dc165743",
   "metadata": {},
   "outputs": [],
   "source": [
    "wordProbs = {}\n",
    "for word in vocabulary:\n",
    "    positive = (textPos.count(word)+1) / (nPos + len(vocabulary))\n",
    "    negative = (textNeg.count(word)+1) / (nNeg + len(vocabulary))\n",
    "    wordProbs.update({word: [positive, negative]})"
   ]
  },
  {
   "cell_type": "code",
   "execution_count": 111,
   "id": "29147599-ca22-480f-90bc-6fe73d93a364",
   "metadata": {},
   "outputs": [],
   "source": [
    "estimate = []\n",
    "\n",
    "for row in range(x_test.shape[0]):\n",
    "    vPositive = probPos\n",
    "    vNegative = probNeg\n",
    "    for word in x_test.iloc[row].lower().split():\n",
    "        if word not in vocabulary:\n",
    "            continue\n",
    "        vPositive *= wordProbs[word][0]\n",
    "        vNegative *= wordProbs[word][1]\n",
    "    estimate.append('pos' if vPositive >= vNegative else 'neg')"
   ]
  },
  {
   "cell_type": "code",
   "execution_count": 113,
   "id": "313b0da8-2624-4ce5-a4d2-3a35abf07d1b",
   "metadata": {},
   "outputs": [],
   "source": [
    "confusion_matrix = pd.DataFrame([[0, 0], [0, 0]], columns=['neg', 'pos'], index=['neg', 'pos'])\n",
    "\n",
    "for i in range(y_test.shape[0]):\n",
    "    confusion_matrix.loc[y_test.iloc[i], estimate[i]] += 1"
   ]
  },
  {
   "cell_type": "code",
   "execution_count": 114,
   "id": "46ffd69a-1dc0-4af2-a5c1-1205f1910d6d",
   "metadata": {},
   "outputs": [
    {
     "data": {
      "text/html": [
       "<div>\n",
       "<style scoped>\n",
       "    .dataframe tbody tr th:only-of-type {\n",
       "        vertical-align: middle;\n",
       "    }\n",
       "\n",
       "    .dataframe tbody tr th {\n",
       "        vertical-align: top;\n",
       "    }\n",
       "\n",
       "    .dataframe thead th {\n",
       "        text-align: right;\n",
       "    }\n",
       "</style>\n",
       "<table border=\"1\" class=\"dataframe\">\n",
       "  <thead>\n",
       "    <tr style=\"text-align: right;\">\n",
       "      <th></th>\n",
       "      <th>neg</th>\n",
       "      <th>pos</th>\n",
       "    </tr>\n",
       "  </thead>\n",
       "  <tbody>\n",
       "    <tr>\n",
       "      <th>neg</th>\n",
       "      <td>1</td>\n",
       "      <td>2</td>\n",
       "    </tr>\n",
       "    <tr>\n",
       "      <th>pos</th>\n",
       "      <td>0</td>\n",
       "      <td>2</td>\n",
       "    </tr>\n",
       "  </tbody>\n",
       "</table>\n",
       "</div>"
      ],
      "text/plain": [
       "     neg  pos\n",
       "neg    1    2\n",
       "pos    0    2"
      ]
     },
     "execution_count": 114,
     "metadata": {},
     "output_type": "execute_result"
    }
   ],
   "source": [
    "confusion_matrix"
   ]
  },
  {
   "cell_type": "code",
   "execution_count": 116,
   "id": "1faa950b-6349-4b84-ab71-8d2fafde62fe",
   "metadata": {},
   "outputs": [],
   "source": [
    "tn, fp, fn, tp = confusion_matrix.loc['neg', 'neg'], confusion_matrix.loc['neg', 'pos'], \\\n",
    "                confusion_matrix.loc['pos', 'neg'], confusion_matrix.loc['pos', 'pos']"
   ]
  },
  {
   "cell_type": "code",
   "execution_count": 117,
   "id": "68a1f529-6288-4211-ac21-2eab04a8985b",
   "metadata": {},
   "outputs": [],
   "source": [
    "precision = tp / (tp + fp)\n",
    "recall = tn / (tp + fn)\n",
    "accuracy = (tp + tn) / (tp + tn + fp + fn)"
   ]
  },
  {
   "cell_type": "code",
   "execution_count": 118,
   "id": "f0774517-ae98-440a-9a5b-25fc648d03ab",
   "metadata": {},
   "outputs": [
    {
     "name": "stdout",
     "output_type": "stream",
     "text": [
      "Precision:  0.5\n",
      "Recall:  0.5\n",
      "Accuracy:  0.6\n"
     ]
    }
   ],
   "source": [
    "print(\"Precision: \", precision)\n",
    "print(\"Recall: \", recall)\n",
    "print(\"Accuracy: \", accuracy)"
   ]
  },
  {
   "cell_type": "markdown",
   "id": "6254280b-b298-4635-b405-8c49e74ea222",
   "metadata": {},
   "source": [
    "-----"
   ]
  },
  {
   "cell_type": "code",
   "execution_count": 94,
   "id": "a8d0c152-24b5-4d6e-9737-80e1d2480fa6",
   "metadata": {},
   "outputs": [
    {
     "name": "stdout",
     "output_type": "stream",
     "text": [
      "['about' 'am' 'amazing' 'an' 'and' 'awesome' 'bad' 'beers' 'best' 'boss'\n",
      " 'dance' 'do' 'donot' 'enemy' 'feel' 'good' 'great' 'he' 'holiday'\n",
      " 'horrible' 'is' 'juice' 'like' 'locality' 'love' 'my' 'not' 'of' 'place'\n",
      " 'restaurant' 'sick' 'stay' 'stuff' 'sworn' 'taste' 'that' 'the' 'these'\n",
      " 'this' 'tired' 'to' 'very' 'what' 'work']\n"
     ]
    }
   ],
   "source": [
    "from sklearn.feature_extraction.text import CountVectorizer\n",
    "from sklearn.naive_bayes import MultinomialNB\n",
    "from sklearn import metrics\n",
    "\n",
    "msg = pd.read_csv('./text_classification.csv')\n",
    "msg['lablenum'] = msg.label.map({'pos':1, 'neg':0})\n",
    "X = msg.Text\n",
    "Y = msg.lablenum\n",
    "\n",
    "x_train, x_test, y_train, y_test = train_test_split(X, Y)\n",
    "cv = CountVectorizer()\n",
    "xtrain_dtm = cv.fit_transform(x_train)\n",
    "xtest_dtm = cv.transform(x_test)\n",
    "print(cv.get_feature_names_out())\n",
    "data = pd.DataFrame(xtrain_dtm.toarray(), columns=cv.get_feature_names_out())"
   ]
  },
  {
   "cell_type": "code",
   "execution_count": 95,
   "id": "a09a19ce-8bc1-4f06-a90c-9da946360d9c",
   "metadata": {},
   "outputs": [],
   "source": [
    "clf = MultinomialNB().fit(xtrain_dtm, y_train)\n",
    "predicted = clf.predict(xtest_dtm)"
   ]
  },
  {
   "cell_type": "code",
   "execution_count": 96,
   "id": "3d554249-4522-4a7f-a51a-3240a9730d6c",
   "metadata": {},
   "outputs": [
    {
     "data": {
      "text/plain": [
       "1.0"
      ]
     },
     "execution_count": 96,
     "metadata": {},
     "output_type": "execute_result"
    }
   ],
   "source": [
    "metrics.accuracy_score(y_test, predicted)"
   ]
  },
  {
   "cell_type": "code",
   "execution_count": 97,
   "id": "950a15e0-0f79-4831-acf3-f981916e04f0",
   "metadata": {},
   "outputs": [
    {
     "data": {
      "text/plain": [
       "array([[2, 0],\n",
       "       [0, 3]])"
      ]
     },
     "execution_count": 97,
     "metadata": {},
     "output_type": "execute_result"
    }
   ],
   "source": [
    "metrics.confusion_matrix(y_test, predicted)"
   ]
  },
  {
   "cell_type": "code",
   "execution_count": 98,
   "id": "29783a83-e84f-4e28-9611-8d24b23dd269",
   "metadata": {},
   "outputs": [
    {
     "data": {
      "text/plain": [
       "1.0"
      ]
     },
     "execution_count": 98,
     "metadata": {},
     "output_type": "execute_result"
    }
   ],
   "source": [
    "metrics.precision_score(y_test, predicted)"
   ]
  },
  {
   "cell_type": "code",
   "execution_count": 99,
   "id": "deb07dbc-2106-411b-a5e9-a605e941223f",
   "metadata": {},
   "outputs": [
    {
     "data": {
      "text/plain": [
       "1.0"
      ]
     },
     "execution_count": 99,
     "metadata": {},
     "output_type": "execute_result"
    }
   ],
   "source": [
    "metrics.recall_score(y_test, predicted)"
   ]
  }
 ],
 "metadata": {
  "kernelspec": {
   "display_name": "Python 3 (ipykernel)",
   "language": "python",
   "name": "python3"
  },
  "language_info": {
   "codemirror_mode": {
    "name": "ipython",
    "version": 3
   },
   "file_extension": ".py",
   "mimetype": "text/x-python",
   "name": "python",
   "nbconvert_exporter": "python",
   "pygments_lexer": "ipython3",
   "version": "3.11.2"
  }
 },
 "nbformat": 4,
 "nbformat_minor": 5
}
