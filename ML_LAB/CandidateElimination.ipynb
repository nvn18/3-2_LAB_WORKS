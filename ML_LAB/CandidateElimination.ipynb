{
 "cells": [
  {
   "cell_type": "markdown",
   "id": "fd231ca0-024e-4ba7-9d9d-95d2ddff6233",
   "metadata": {},
   "source": [
    "## For a given set of training data examples stored in a .CSV file, implement and demonstrate the Candidate-Elimination algorithm to output a description of the set of all hypotheses consistent with the training examples. "
   ]
  },
  {
   "cell_type": "code",
   "execution_count": 1,
   "id": "93d41795-15bf-415f-87ad-dde61167617a",
   "metadata": {},
   "outputs": [],
   "source": [
    "import pandas as pd"
   ]
  },
  {
   "cell_type": "code",
   "execution_count": 2,
   "id": "f2712931-116d-4b90-9a29-249547855e23",
   "metadata": {},
   "outputs": [],
   "source": [
    "df = pd.read_csv('./enjoySport.csv')"
   ]
  },
  {
   "cell_type": "code",
   "execution_count": 7,
   "id": "7aadc2b0-9dec-488a-87e5-0f8035f7978a",
   "metadata": {},
   "outputs": [],
   "source": [
    "def specialize(s,i):\n",
    "    if s[0] == None:\n",
    "        s = list(df.iloc[0,:-1])\n",
    "        return s\n",
    "    if df.iloc[i,-1] == 'yes':\n",
    "        for j in range(len(s)):\n",
    "            if s[j] != df.iloc[i,j]:\n",
    "                s[j] = '?'\n",
    "    return s"
   ]
  },
  {
   "cell_type": "code",
   "execution_count": 8,
   "id": "bf667048-5d70-4a8d-87c7-e4c86641ff1f",
   "metadata": {},
   "outputs": [],
   "source": [
    "def generalize(s,gen,index):\n",
    "    print(s)\n",
    "    for i in range(len(s)):\n",
    "        if s[i] != df.iloc[index,i] and s[i] != '?':\n",
    "            g = ['?']*6\n",
    "            g[i] = s[i]\n",
    "            gen.append(g)\n",
    "    return gen"
   ]
  },
  {
   "cell_type": "code",
   "execution_count": 9,
   "id": "28025802-7296-46a5-9729-a00f43254742",
   "metadata": {},
   "outputs": [
    {
     "name": "stdout",
     "output_type": "stream",
     "text": [
      "['sunny', 'warm', '?', 'strong', 'warm', 'same']\n"
     ]
    }
   ],
   "source": [
    "s = [None]*6\n",
    "gen = []\n",
    "for i in range(len(df)):\n",
    "    if df.iloc[i,-1] == 'yes':\n",
    "        s = specialize(s,i)\n",
    "    else:\n",
    "        gen = generalize(s,gen,i)"
   ]
  },
  {
   "cell_type": "code",
   "execution_count": 10,
   "id": "a383e772-859b-4b0b-84b1-8c7e516a2001",
   "metadata": {},
   "outputs": [
    {
     "name": "stdout",
     "output_type": "stream",
     "text": [
      "[['sunny', '?', '?', '?', '?', '?'], ['?', 'warm', '?', '?', '?', '?']]\n",
      "['sunny', 'warm', '?', 'strong', '?', '?']\n"
     ]
    }
   ],
   "source": [
    "final_gen = []\n",
    "for i in gen:\n",
    "    for j,k in zip(range(len(i)),range(len(s))):\n",
    "        if i[j] != '?':\n",
    "            if s[k] == i[j]:\n",
    "                final_gen.append(i)\n",
    "print(final_gen)\n",
    "print(s)"
   ]
  }
 ],
 "metadata": {
  "kernelspec": {
   "display_name": "Python 3 (ipykernel)",
   "language": "python",
   "name": "python3"
  },
  "language_info": {
   "codemirror_mode": {
    "name": "ipython",
    "version": 3
   },
   "file_extension": ".py",
   "mimetype": "text/x-python",
   "name": "python",
   "nbconvert_exporter": "python",
   "pygments_lexer": "ipython3",
   "version": "3.11.2"
  }
 },
 "nbformat": 4,
 "nbformat_minor": 5
}
