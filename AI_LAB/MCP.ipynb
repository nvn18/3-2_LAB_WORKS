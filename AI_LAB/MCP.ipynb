{
 "cells": [
  {
   "cell_type": "markdown",
   "id": "a8637438-0579-4148-8fcf-8d638ebc55bc",
   "metadata": {},
   "source": [
    "# Missionaries and Cannibals Problem"
   ]
  },
  {
   "cell_type": "code",
   "execution_count": null,
   "id": "a9fd373b-054f-4cfe-a875-2ccbb5a0233b",
   "metadata": {},
   "outputs": [],
   "source": [
    "def check(fromSide, toSide, m, c):\n",
    "    if fromSide[0] in range(0, m + 1) and toSide[0] in range(0, m + 1) and \\\n",
    "        fromSide[1] in range(0, c + 1) and toSide[1] in range(0, c + 1):\n",
    "        if fromSide[0] + toSide[0] == m and fromSide[1] + toSide[1] == c:\n",
    "            if fromSide[0] !=0 and toSide[0] != 0 and fromSide[0] >= fromSide[1] and toSide[0] >= toSide[1]:\n",
    "                return True\n",
    "            elif fromSide[0] ==0 and toSide[0] != 0  and toSide[0] >= toSide[1]:\n",
    "                return True\n",
    "            elif fromSide[0] !=0 and toSide[0] == 0 and fromSide[0] >= fromSide[1]:\n",
    "                return True\n",
    "    return False\n",
    "\n",
    "def generateStates(leftBank, rightBank, m, c):\n",
    "    if leftBank[-1] == 1:\n",
    "        fromSide, toSide = leftBank, rightBank\n",
    "    else:\n",
    "        fromSide, toSide = rightBank, leftBank\n",
    "\n",
    "    states = []\n",
    "    \n",
    "    # sending two missionaries\n",
    "    if check([fromSide[0]-2, fromSide[1], 0], [toSide[0]+2, toSide[1], 1], m, c):\n",
    "        states.append([[fromSide[0]-2, fromSide[1], 0], [toSide[0]+2, toSide[1], 1]])\n",
    "    \n",
    "    # sending one missionary and one cannibal\n",
    "    if check([fromSide[0]-1, fromSide[1]-1, 0], [toSide[0]+1, toSide[1]+1, 1], m, c):\n",
    "        states.append([[fromSide[0]-1, fromSide[1]-1, 0], [toSide[0]+1, toSide[1]+1, 1]])\n",
    "\n",
    "    # sending two cannibals\n",
    "    if check([fromSide[0], fromSide[1]-2, 0], [toSide[0], toSide[1]+2, 1], m, c):\n",
    "        states.append([[fromSide[0], fromSide[1]-2, 0], [toSide[0], toSide[1]+2, 1]])\n",
    "\n",
    "    # sending one missionary\n",
    "    if check([fromSide[0]-1, fromSide[1], 0], [toSide[0]+1, toSide[1], 1], m, c):\n",
    "        states.append([[fromSide[0]-1, fromSide[1], 0], [toSide[0]+1, toSide[1], 1]])\n",
    "\n",
    "    # sending one cannibal\n",
    "    if check([fromSide[0], fromSide[1]-1, 0], [toSide[0], toSide[1]+1, 1], m, c):\n",
    "        states.append([[fromSide[0], fromSide[1]-1, 0], [toSide[0], toSide[1]+1, 1]])\n",
    "\n",
    "    if leftBank[-1] == 0:\n",
    "        return [x[::-1] for x in states]\n",
    "        \n",
    "    return states\n",
    "\n",
    "def MCP_BFS(m, c):\n",
    "    initialState = [[m, c, 1], [0, 0, 0]]\n",
    "    goalState = [[0, 0, 0], [m, c, 1]]\n",
    "    \n",
    "    explored = [initialState]\n",
    "    frontier = [initialState]\n",
    "\n",
    "    while frontier:\n",
    "        node = frontier.pop(0)\n",
    "\n",
    "        if node == goalState:\n",
    "            return explored\n",
    "\n",
    "        states = generateStates(node[0], node[1], m, c)\n",
    "        \n",
    "        for new_state in states:\n",
    "            if new_state not in explored:\n",
    "                explored += [new_state]\n",
    "                frontier += [new_state]\n",
    "                \n",
    "    return None"
   ]
  },
  {
   "cell_type": "code",
   "execution_count": 3,
   "id": "eabd999c-6ba2-4d59-a3c3-090bb3c0e908",
   "metadata": {},
   "outputs": [
    {
     "name": "stdin",
     "output_type": "stream",
     "text": [
      "Enter the number of Missionaries:  3\n",
      "Enter the number of Cannibals:  3\n"
     ]
    },
    {
     "name": "stdout",
     "output_type": "stream",
     "text": [
      "Goal Reached\n",
      "[[3, 3, 1], [0, 0, 0]]\n",
      "[[2, 2, 0], [1, 1, 1]]\n",
      "[[3, 1, 0], [0, 2, 1]]\n",
      "[[3, 2, 0], [0, 1, 1]]\n",
      "[[3, 2, 1], [0, 1, 0]]\n",
      "[[3, 0, 0], [0, 3, 1]]\n",
      "[[3, 1, 1], [0, 2, 0]]\n",
      "[[1, 1, 0], [2, 2, 1]]\n",
      "[[2, 2, 1], [1, 1, 0]]\n",
      "[[0, 2, 0], [3, 1, 1]]\n",
      "[[0, 3, 1], [3, 0, 0]]\n",
      "[[0, 1, 0], [3, 2, 1]]\n",
      "[[1, 1, 1], [2, 2, 0]]\n",
      "[[0, 2, 1], [3, 1, 0]]\n",
      "[[0, 0, 0], [3, 3, 1]]\n"
     ]
    }
   ],
   "source": [
    "m = int(input(\"Enter the number of Missionaries: \"))\n",
    "c = int(input(\"Enter the number of Cannibals: \"))\n",
    "\n",
    "solution = MCP_BFS(m, c)\n",
    "\n",
    "if solution:\n",
    "    print(\"Goal state reached.\")\n",
    "    for state in solution:\n",
    "        print(state)\n",
    "else:\n",
    "    print(\"Goal state not reached.\")"
   ]
  }
 ],
 "metadata": {
  "kernelspec": {
   "display_name": "Python 3 (ipykernel)",
   "language": "python",
   "name": "python3"
  },
  "language_info": {
   "codemirror_mode": {
    "name": "ipython",
    "version": 3
   },
   "file_extension": ".py",
   "mimetype": "text/x-python",
   "name": "python",
   "nbconvert_exporter": "python",
   "pygments_lexer": "ipython3",
   "version": "3.11.4"
  }
 },
 "nbformat": 4,
 "nbformat_minor": 5
}
