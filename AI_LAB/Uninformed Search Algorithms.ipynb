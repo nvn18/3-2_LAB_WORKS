{
 "cells": [
  {
   "cell_type": "markdown",
   "id": "db645edf",
   "metadata": {},
   "source": [
    "## DFS TRAVERSAL"
   ]
  },
  {
   "cell_type": "code",
   "execution_count": 2,
   "id": "75ba3edc",
   "metadata": {},
   "outputs": [
    {
     "name": "stdout",
     "output_type": "stream",
     "text": [
      "Enter the start node: 0\n",
      "Enter the goal node: 2\n",
      "\n",
      "The DFS traversal for the given graph: [0, 2, 4, 3, 1]\n"
     ]
    }
   ],
   "source": [
    "def dfs(graph, start, goal):\n",
    "    explored = [start]\n",
    "    frontier = [start]\n",
    "    traversal = []\n",
    "    \n",
    "    while frontier:\n",
    "        node = frontier.pop()\n",
    "        \n",
    "        if node in graph:\n",
    "            traversal += [node]\n",
    "            \n",
    "        for neighbour in graph.get(node, []):\n",
    "            if neighbour not in explored:\n",
    "                explored += [neighbour]\n",
    "                frontier += [neighbour]\n",
    "                \n",
    "    return False, traversal\n",
    "    \n",
    "if __name__ == \"__main__\": \n",
    "    graph = {0:[1,2],\n",
    "             1:[3],\n",
    "             2:[3,4],\n",
    "             3:[4],\n",
    "             4:[0]}\n",
    "    \n",
    "    start_node = int(input(\"Enter the start node: \"))\n",
    "    goal_node = int(input(\"Enter the goal node: \"))\n",
    "    \n",
    "    found, traversal = dfs(graph, start_node, goal_node)\n",
    "\n",
    "    print(f\"\\nThe DFS traversal for the given graph: {traversal}\")\n"
   ]
  },
  {
   "cell_type": "markdown",
   "id": "5c589d8e",
   "metadata": {},
   "source": [
    "## BFS TRAVERSAL"
   ]
  },
  {
   "cell_type": "code",
   "execution_count": 5,
   "id": "ad849f54",
   "metadata": {},
   "outputs": [
    {
     "name": "stdout",
     "output_type": "stream",
     "text": [
      "Enter the start node: 0\n",
      "Enter the goal node: 1\n",
      "\n",
      "The DFS traversal for the given graph: [0, 1, 2, 3, 4]\n"
     ]
    }
   ],
   "source": [
    "def dfs(graph, start, goal):\n",
    "    explored = [start]\n",
    "    frontier = [start]\n",
    "    traversal = []\n",
    "    \n",
    "    while frontier:\n",
    "        node = frontier.pop(0)\n",
    "        \n",
    "        if node in graph:\n",
    "            traversal += [node]\n",
    "            \n",
    "        for neighbour in graph.get(node, []):\n",
    "            if neighbour not in explored:\n",
    "                explored += [neighbour]\n",
    "                frontier += [neighbour]\n",
    "                \n",
    "    return False, traversal\n",
    "    \n",
    "if __name__ == \"__main__\": \n",
    "    graph = {0:[1,2],\n",
    "             1:[3],\n",
    "             2:[3,4],\n",
    "             3:[4],\n",
    "             4:[0]}\n",
    "    \n",
    "    start_node = int(input(\"Enter the start node: \"))\n",
    "    goal_node = int(input(\"Enter the goal node: \"))\n",
    "    \n",
    "    found, traversal = dfs(graph, start_node, goal_node)\n",
    "\n",
    "    print(f\"\\nThe DFS traversal for the given graph: {traversal}\")\n"
   ]
  },
  {
   "cell_type": "markdown",
   "id": "709f78cc",
   "metadata": {},
   "source": [
    "## DFS GOAL NODE"
   ]
  },
  {
   "cell_type": "code",
   "execution_count": 3,
   "id": "b3fc6cb4",
   "metadata": {},
   "outputs": [
    {
     "name": "stdout",
     "output_type": "stream",
     "text": [
      "Enter the start node: 0\n",
      "Enter the goal node: 2\n",
      "\n",
      "The DFS traversal for the given graph: [0, 2]\n",
      "\n",
      "Search for node 2:\n",
      "Goal node found.\n"
     ]
    }
   ],
   "source": [
    "def dfs(graph, start, goal):\n",
    "    explored = [start]\n",
    "    frontier = [start]\n",
    "    traversal = []\n",
    "    \n",
    "    while frontier:\n",
    "        node = frontier.pop()\n",
    "        \n",
    "        if node in graph:\n",
    "            traversal += [node]\n",
    "        \n",
    "        if(node == goal):\n",
    "            return True, traversal\n",
    "            \n",
    "        for neighbour in graph.get(node, []):\n",
    "            if neighbour not in explored:\n",
    "                explored += [neighbour]\n",
    "                frontier += [neighbour]\n",
    "                \n",
    "    return False, traversal\n",
    "    \n",
    "if __name__ == \"__main__\": \n",
    "    graph = {0:[1,2],\n",
    "             1:[3],\n",
    "             2:[3,4],\n",
    "             3:[4],\n",
    "             4:[0]}\n",
    "    \n",
    "    start_node = int(input(\"Enter the start node: \"))\n",
    "    goal_node = int(input(\"Enter the goal node: \"))\n",
    "    \n",
    "    found, traversal = dfs(graph, start_node, goal_node)\n",
    "\n",
    "    print(f\"\\nThe DFS traversal for the given graph: {traversal}\")\n",
    "\n",
    "    print(f\"\\nSearch for node {goal_node}:\")\n",
    "    if found:\n",
    "        print(\"Goal node found.\")\n",
    "    else:\n",
    "        print(\"Goal node not found.\")"
   ]
  },
  {
   "cell_type": "markdown",
   "id": "62c16ca9",
   "metadata": {},
   "source": [
    "## BFS GOAL NODE"
   ]
  },
  {
   "cell_type": "code",
   "execution_count": 6,
   "id": "8472968b",
   "metadata": {},
   "outputs": [
    {
     "name": "stdout",
     "output_type": "stream",
     "text": [
      "Enter the start node: 0\n",
      "Enter the goal node: 1\n",
      "\n",
      "The DFS traversal for the given graph: [0, 1]\n",
      "\n",
      "Search for node 1:\n",
      "Goal node found.\n"
     ]
    }
   ],
   "source": [
    "def dfs(graph, start, goal):\n",
    "    explored = [start]\n",
    "    frontier = [start]\n",
    "    traversal = []\n",
    "    \n",
    "    while frontier:\n",
    "        node = frontier.pop(0)\n",
    "        \n",
    "        if node in graph:\n",
    "            traversal += [node]\n",
    "        \n",
    "        if(node == goal):\n",
    "            return True, traversal\n",
    "            \n",
    "        for neighbour in graph.get(node, []):\n",
    "            if neighbour not in explored:\n",
    "                explored += [neighbour]\n",
    "                frontier += [neighbour]\n",
    "                \n",
    "    return False, traversal\n",
    "    \n",
    "if __name__ == \"__main__\": \n",
    "    graph = {0:[1,2],\n",
    "             1:[3],\n",
    "             2:[3,4],\n",
    "             3:[4],\n",
    "             4:[0]}\n",
    "    \n",
    "    start_node = int(input(\"Enter the start node: \"))\n",
    "    goal_node = int(input(\"Enter the goal node: \"))\n",
    "    \n",
    "    found, traversal = dfs(graph, start_node, goal_node)\n",
    "\n",
    "    print(f\"\\nThe DFS traversal for the given graph: {traversal}\")\n",
    "\n",
    "    print(f\"\\nSearch for node {goal_node}:\")\n",
    "    if found:\n",
    "        print(\"Goal node found.\")\n",
    "    else:\n",
    "        print(\"Goal node not found.\")"
   ]
  },
  {
   "cell_type": "markdown",
   "id": "75a8afa0",
   "metadata": {},
   "source": [
    "## Depth Limited Search"
   ]
  },
  {
   "cell_type": "code",
   "execution_count": 27,
   "id": "e5840688",
   "metadata": {},
   "outputs": [
    {
     "name": "stdout",
     "output_type": "stream",
     "text": [
      "enter the starting node:A\n",
      "enter the limit:3\n",
      "enter the goal nodeH\n",
      "A B D \n",
      "found\n"
     ]
    }
   ],
   "source": [
    "def recursiveDLS(graph, node, goal, limit):\n",
    "    if node == goal:\n",
    "        return 'GOAL'\n",
    "    elif limit == 0:\n",
    "        return 'LIMIT'\n",
    "    else:\n",
    "        cutoff = False\n",
    "        print(node, end=' ')\n",
    "        for neighbour in graph[node]:\n",
    "            result = recursiveDLS(graph, neighbour, goal, limit-1)\n",
    "            if result == 'LIMIT':\n",
    "                cutoff = True\n",
    "            elif result != 'FAIL':\n",
    "                return result\n",
    "        return 'LIMIT' if cutoff else 'FAIL'\n",
    "graph={\n",
    "    'A':['B','C'],\n",
    "    'B':['D','E'],\n",
    "    'C':['F'],\n",
    "    'D':['G','H'],\n",
    "    'E':[],\n",
    "    'F':['I','K'],\n",
    "    'G':[],\n",
    "    'H':['L'],\n",
    "    'I':[],\n",
    "    'K':['M'],\n",
    "    'L':[],\n",
    "    'M':[]\n",
    "}\n",
    "start_node = input(\"enter the starting node:\")\n",
    "limit = int(input(\"enter the limit:\"))\n",
    "goal = input(\"enter the goal node\")\n",
    "\n",
    "res = recursiveDLS(graph, start_node, goal, limit)\n",
    "if res == 'GOAL':\n",
    "    print(\"\\nfound\")\n",
    "else:\n",
    "    print(\"not found\")"
   ]
  },
  {
   "cell_type": "markdown",
   "id": "32b2053b",
   "metadata": {},
   "source": [
    "##  Iterative Depth Frst Search"
   ]
  },
  {
   "cell_type": "code",
   "execution_count": 18,
   "id": "e0971d4d",
   "metadata": {},
   "outputs": [
    {
     "name": "stdout",
     "output_type": "stream",
     "text": [
      "1 to 2\n",
      "1 to 7\n",
      "1 to 8\n",
      "2 to 3\n",
      "2 to 6\n",
      "3 to 4\n",
      "3 to 5\n",
      "8 to 9\n",
      "8 to 12\n",
      "9 to 10\n",
      "9 to 11\n"
     ]
    }
   ],
   "source": [
    "#iterative depth first search\n",
    "'''graph=[[0,0,1,1,0,0],\n",
    "      [1,0,0,0,1,0],\n",
    "      [0,1,0,0,0,0],\n",
    "      [0,0,0,0,0,0],\n",
    "      [0,0,0,0,0,0]]'''\n",
    "\n",
    "graph=[[0,0,0,0,0,0,0,0,0,0,0,0,0],\n",
    "      [0,0,1,0,0,0,0,1,1,0,0,0,0],\n",
    "      [0,0,0,1,0,0,1,0,0,0,0,0,0],\n",
    "      [0,0,0,0,1,1,0,0,0,0,0,0,0],\n",
    "      [0,0,0,0,0,0,0,0,0,0,0,0,0],\n",
    "      [0,0,0,0,0,0,0,0,0,0,0,0,0],\n",
    "      [0,0,0,0,0,0,0,0,0,0,0,0,0],\n",
    "      [0,0,0,0,0,0,0,0,0,0,0,0,0],\n",
    "      [0,0,0,0,0,0,0,0,0,1,0,0,1],\n",
    "      [0,0,0,0,0,0,0,0,0,0,1,1,0]]\n",
    "\n",
    "for i in range(len(graph)):\n",
    "    for j in range(len(graph[i])):\n",
    "        if graph[i][j]:\n",
    "            print(f\"{i} to {j}\")"
   ]
  },
  {
   "cell_type": "code",
   "execution_count": 22,
   "id": "61f27b54",
   "metadata": {},
   "outputs": [
    {
     "name": "stdout",
     "output_type": "stream",
     "text": [
      "enter the starting node:2\n",
      "2 6 3 5 4 "
     ]
    }
   ],
   "source": [
    "def idfs(graph,start):\n",
    "    stack = [start] #starting element will be in the stack\n",
    "    visited = set()\n",
    "    \n",
    "    while stack:\n",
    "        node = stack.pop()\n",
    "        if node not in visited:\n",
    "            print(f\"{node}\",end=' ')\n",
    "            visited.add(node)\n",
    "            stack.extend(nei for nei , edge in enumerate(graph[node]) if edge)\n",
    "start_node = int(input(\"enter the starting node:\"))\n",
    "idfs(graph,start_node)"
   ]
  },
  {
   "cell_type": "markdown",
   "id": "2cd08d53",
   "metadata": {},
   "source": [
    "## 8_Queens_simple_version"
   ]
  },
  {
   "cell_type": "code",
   "execution_count": 23,
   "id": "513f31cc",
   "metadata": {},
   "outputs": [
    {
     "name": "stdout",
     "output_type": "stream",
     "text": [
      "Enter the number of Queens: 4\n",
      "[2, 4, 1, 3]\n",
      " _  _  _  _  _ \n",
      "|  .  Q  .  . |\n",
      "|  .  .  .  Q |\n",
      "|  Q  .  .  . |\n",
      "|  .  .  Q  . |\n",
      "\n",
      "[3, 1, 4, 2]\n",
      " _  _  _  _  _ \n",
      "|  .  .  Q  . |\n",
      "|  Q  .  .  . |\n",
      "|  .  .  .  Q |\n",
      "|  .  Q  .  . |\n",
      "\n"
     ]
    }
   ],
   "source": [
    "def printSolution(X):\n",
    "    print(' _ '*len(X))\n",
    "    for i in range(1,len(X)):\n",
    "        print('| ', end='')\n",
    "        for j in range(1, len(X)):\n",
    "            if X[i] == j:\n",
    "                print(' Q ', end='')\n",
    "            else:\n",
    "                print(' . ', end='')\n",
    "        print('|')\n",
    "    print()\n",
    "\n",
    "def place(X, k, i):\n",
    "    for j in range(1,k):\n",
    "        if X[j] == i or abs(j-k) == abs(X[j] - i):\n",
    "            return False\n",
    "    return True\n",
    "\n",
    "def NQueens(X, k, N):\n",
    "    for i in range(1, len(X)):\n",
    "        if place(X, k, i):\n",
    "            X[k] = i\n",
    "\n",
    "            if k == N:\n",
    "                print(X[1:])\n",
    "                printSolution(X)\n",
    "            else:\n",
    "                NQueens(X, k+1, N)\n",
    "\n",
    "if __name__ == \"__main__\":\n",
    "    N = int(input(\"Enter the number of Queens: \"))\n",
    "\n",
    "    X = [0] * (N+1)\n",
    "\n",
    "    NQueens(X, 1, N)"
   ]
  },
  {
   "cell_type": "markdown",
   "id": "434377bf",
   "metadata": {},
   "source": [
    "## 8_Queens"
   ]
  },
  {
   "cell_type": "code",
   "execution_count": 24,
   "id": "a45725c8",
   "metadata": {},
   "outputs": [
    {
     "name": "stdout",
     "output_type": "stream",
     "text": [
      "Enter the size of the chessboard (N): 4\n",
      ". . Q .\n",
      "Q . . .\n",
      ". . . Q\n",
      ". Q . .\n",
      "\n",
      "\n",
      ". Q . .\n",
      ". . . Q\n",
      "Q . . .\n",
      ". . Q .\n",
      "\n",
      "\n"
     ]
    }
   ],
   "source": [
    "def print_solution(board):\n",
    "    for row in board:\n",
    "        print(\" \".join('Q' if cell else '.' for cell in row))\n",
    "    print(\"\\n\")\n",
    "\n",
    "def is_safe(board, row, col):\n",
    "    for i in range(col):\n",
    "        if board[row][i]:\n",
    "            return False\n",
    "    for i, j in zip(range(row, -1, -1), range(col, -1, -1)):\n",
    "        if board[i][j]:\n",
    "            return False\n",
    "    for i, j in zip(range(row, len(board), 1), range(col, -1, -1)):\n",
    "        if board[i][j]:\n",
    "            return False\n",
    "    return True\n",
    "\n",
    "def solve_nq_util(board, col):\n",
    "    if col >= len(board):\n",
    "        print_solution(board)\n",
    "        return True\n",
    "    res = False\n",
    "    for i in range(len(board)):\n",
    "        if is_safe(board, i, col):\n",
    "            board[i][col] = 1\n",
    "            res = solve_nq_util(board, col + 1) or res\n",
    "            board[i][col] = 0\n",
    "    return res\n",
    "           \n",
    "\n",
    "def solve_nq(N):\n",
    "    board = [[0 for _ in range(N)] for _ in range(N)]\n",
    "    if not solve_nq_util(board, 0):\n",
    "        print(\"Solution does not exist\")\n",
    "\n",
    "N = int(input(\"Enter the size of the chessboard (N): \"))\n",
    "if N <= 0 or N > 100: \n",
    "    print(f\"Invalid board size. Please choose a value between 1 and 100\")\n",
    "else:\n",
    "    solve_nq(N)\n",
    "\n",
    "\n"
   ]
  }
 ],
 "metadata": {
  "kernelspec": {
   "display_name": "Python 3 (ipykernel)",
   "language": "python",
   "name": "python3"
  },
  "language_info": {
   "codemirror_mode": {
    "name": "ipython",
    "version": 3
   },
   "file_extension": ".py",
   "mimetype": "text/x-python",
   "name": "python",
   "nbconvert_exporter": "python",
   "pygments_lexer": "ipython3",
   "version": "3.11.3"
  }
 },
 "nbformat": 4,
 "nbformat_minor": 5
}
