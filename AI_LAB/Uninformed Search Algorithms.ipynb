{
 "cells": [
  {
   "cell_type": "markdown",
   "id": "db645edf",
   "metadata": {},
   "source": [
    "## DFS TRAVERSAL"
   ]
  },
  {
   "cell_type": "code",
   "execution_count": 1,
   "id": "75ba3edc",
   "metadata": {},
   "outputs": [
    {
     "name": "stdout",
     "output_type": "stream",
     "text": [
      "Enter the start node: 0\n",
      "Enter the goal node: 4\n",
      "\n",
      "The DFS traversal for the given graph: [0, 2, 4, 3, 1]\n"
     ]
    }
   ],
   "source": [
    "def dfs(graph, start, goal):\n",
    "    explored = [start]\n",
    "    frontier = [start]\n",
    "    traversal = []\n",
    "    \n",
    "    while frontier:\n",
    "        node = frontier.pop()\n",
    "        \n",
    "        if node in graph:\n",
    "            traversal += [node]\n",
    "            \n",
    "        for neighbour in graph.get(node, []):\n",
    "            if neighbour not in explored:\n",
    "                explored += [neighbour]\n",
    "                frontier += [neighbour]\n",
    "                \n",
    "    return False, traversal\n",
    "    \n",
    "if __name__ == \"__main__\": \n",
    "    graph = {0:[1,2],\n",
    "             1:[3],\n",
    "             2:[3,4],\n",
    "             3:[4],\n",
    "             4:[0]}\n",
    "    \n",
    "    start_node = int(input(\"Enter the start node: \"))\n",
    "    goal_node = int(input(\"Enter the goal node: \"))\n",
    "    \n",
    "    found, traversal = dfs(graph, start_node, goal_node)\n",
    "\n",
    "    print(f\"\\nThe DFS traversal for the given graph: {traversal}\")\n"
   ]
  },
  {
   "cell_type": "markdown",
   "id": "5c589d8e",
   "metadata": {},
   "source": [
    "## BFS TRAVERSAL"
   ]
  },
  {
   "cell_type": "code",
   "execution_count": 5,
   "id": "ad849f54",
   "metadata": {},
   "outputs": [
    {
     "name": "stdout",
     "output_type": "stream",
     "text": [
      "Enter the start node: 0\n",
      "Enter the goal node: 1\n",
      "\n",
      "The DFS traversal for the given graph: [0, 1, 2, 3, 4]\n"
     ]
    }
   ],
   "source": [
    "def dfs(graph, start, goal):\n",
    "    explored = [start]\n",
    "    frontier = [start]\n",
    "    traversal = []\n",
    "    \n",
    "    while frontier:\n",
    "        node = frontier.pop(0)\n",
    "        \n",
    "        if node in graph:\n",
    "            traversal += [node]\n",
    "            \n",
    "        for neighbour in graph.get(node, []):\n",
    "            if neighbour not in explored:\n",
    "                explored += [neighbour]\n",
    "                frontier += [neighbour]\n",
    "                \n",
    "    return False, traversal\n",
    "    \n",
    "if __name__ == \"__main__\": \n",
    "    graph = {0:[1,2],\n",
    "             1:[3],\n",
    "             2:[3,4],\n",
    "             3:[4],\n",
    "             4:[0]}\n",
    "    \n",
    "    start_node = int(input(\"Enter the start node: \"))\n",
    "    goal_node = int(input(\"Enter the goal node: \"))\n",
    "    \n",
    "    found, traversal = dfs(graph, start_node, goal_node)\n",
    "\n",
    "    print(f\"\\nThe DFS traversal for the given graph: {traversal}\")\n"
   ]
  },
  {
   "cell_type": "markdown",
   "id": "709f78cc",
   "metadata": {},
   "source": [
    "## DFS GOAL NODE"
   ]
  },
  {
   "cell_type": "code",
   "execution_count": 2,
   "id": "b3fc6cb4",
   "metadata": {},
   "outputs": [
    {
     "name": "stdout",
     "output_type": "stream",
     "text": [
      "Enter the start node: 0\n",
      "Enter the goal node: 4\n",
      "\n",
      "The DFS traversal for the given graph: [0, 2, 4]\n",
      "\n",
      "Search for node 4:\n",
      "Goal node found.\n"
     ]
    }
   ],
   "source": [
    "def dfs(graph, start, goal):\n",
    "    explored = [start]\n",
    "    frontier = [start]\n",
    "    traversal = []\n",
    "    \n",
    "    while frontier:\n",
    "        node = frontier.pop()\n",
    "        \n",
    "        if node in graph:\n",
    "            traversal += [node]\n",
    "        \n",
    "        if(node == goal):\n",
    "            return True, traversal\n",
    "            \n",
    "        for neighbour in graph.get(node, []):\n",
    "            if neighbour not in explored:\n",
    "                explored += [neighbour]\n",
    "                frontier += [neighbour]\n",
    "                \n",
    "    return False, traversal\n",
    "    \n",
    "if __name__ == \"__main__\": \n",
    "    graph = {0:[1,2],\n",
    "             1:[3],\n",
    "             2:[3,4],\n",
    "             3:[4],\n",
    "             4:[0]}\n",
    "    \n",
    "    start_node = int(input(\"Enter the start node: \"))\n",
    "    goal_node = int(input(\"Enter the goal node: \"))\n",
    "    \n",
    "    found, traversal = dfs(graph, start_node, goal_node)\n",
    "\n",
    "    print(f\"\\nThe DFS traversal for the given graph: {traversal}\")\n",
    "\n",
    "    print(f\"\\nSearch for node {goal_node}:\")\n",
    "    if found:\n",
    "        print(\"Goal node found.\")\n",
    "    else:\n",
    "        print(\"Goal node not found.\")"
   ]
  },
  {
   "cell_type": "markdown",
   "id": "62c16ca9",
   "metadata": {},
   "source": [
    "## BFS GOAL NODE"
   ]
  },
  {
   "cell_type": "code",
   "execution_count": 6,
   "id": "8472968b",
   "metadata": {},
   "outputs": [
    {
     "name": "stdout",
     "output_type": "stream",
     "text": [
      "Enter the start node: 0\n",
      "Enter the goal node: 1\n",
      "\n",
      "The DFS traversal for the given graph: [0, 1]\n",
      "\n",
      "Search for node 1:\n",
      "Goal node found.\n"
     ]
    }
   ],
   "source": [
    "def dfs(graph, start, goal):\n",
    "    explored = [start]\n",
    "    frontier = [start]\n",
    "    traversal = []\n",
    "    \n",
    "    while frontier:\n",
    "        node = frontier.pop(0)\n",
    "        \n",
    "        if node in graph:\n",
    "            traversal += [node]\n",
    "        \n",
    "        if(node == goal):\n",
    "            return True, traversal\n",
    "            \n",
    "        for neighbour in graph.get(node, []):\n",
    "            if neighbour not in explored:\n",
    "                explored += [neighbour]\n",
    "                frontier += [neighbour]\n",
    "                \n",
    "    return False, traversal\n",
    "    \n",
    "if __name__ == \"__main__\": \n",
    "    graph = {0:[1,2],\n",
    "             1:[3],\n",
    "             2:[3,4],\n",
    "             3:[4],\n",
    "             4:[0]}\n",
    "    \n",
    "    start_node = int(input(\"Enter the start node: \"))\n",
    "    goal_node = int(input(\"Enter the goal node: \"))\n",
    "    \n",
    "    found, traversal = dfs(graph, start_node, goal_node)\n",
    "\n",
    "    print(f\"\\nThe DFS traversal for the given graph: {traversal}\")\n",
    "\n",
    "    print(f\"\\nSearch for node {goal_node}:\")\n",
    "    if found:\n",
    "        print(\"Goal node found.\")\n",
    "    else:\n",
    "        print(\"Goal node not found.\")"
   ]
  },
  {
   "cell_type": "markdown",
   "id": "75a8afa0",
   "metadata": {},
   "source": [
    "## Depth Limited Search"
   ]
  },
  {
   "cell_type": "code",
   "execution_count": 7,
   "id": "e5840688",
   "metadata": {},
   "outputs": [
    {
     "name": "stdout",
     "output_type": "stream",
     "text": [
      "enter the starting node:A\n",
      "enter the limit:3\n",
      "enter the goal nodeH\n",
      "A B D \n",
      "found\n"
     ]
    }
   ],
   "source": [
    "def DLS(graph, node, goal, limit):\n",
    "    if node == goal:\n",
    "        return 'GOAL'\n",
    "    elif limit == 0:\n",
    "        return 'LIMIT'\n",
    "    else:\n",
    "        cutoff = False\n",
    "        print(node, end=' ')\n",
    "        for neighbour in graph[node]:\n",
    "            result = DLS(graph, neighbour, goal, limit-1)\n",
    "            if result == 'LIMIT':\n",
    "                cutoff = True\n",
    "            elif result != 'FAIL':\n",
    "                return result\n",
    "        return 'LIMIT' if cutoff else 'FAIL'\n",
    "graph={\n",
    "    'A':['B','C'],\n",
    "    'B':['D','E'],\n",
    "    'C':['F'],\n",
    "    'D':['G','H'],\n",
    "    'E':[],\n",
    "    'F':['I','K'],\n",
    "    'G':[],\n",
    "    'H':['L'],\n",
    "    'I':[],\n",
    "    'K':['M'],\n",
    "    'L':[],\n",
    "    'M':[]\n",
    "}\n",
    "start_node = input(\"enter the starting node:\")\n",
    "limit = int(input(\"enter the limit:\"))\n",
    "goal = input(\"enter the goal node\")\n",
    "\n",
    "res = DLS(graph, start_node, goal, limit)\n",
    "if res == 'GOAL':\n",
    "    print(\"\\nfound\")\n",
    "else:\n",
    "    print(\"not found\")"
   ]
  },
  {
   "cell_type": "markdown",
   "id": "7e2eb797",
   "metadata": {},
   "source": [
    "# uniform_cost_search"
   ]
  },
  {
   "cell_type": "code",
   "execution_count": 9,
   "id": "141b4d03",
   "metadata": {},
   "outputs": [
    {
     "name": "stdout",
     "output_type": "stream",
     "text": [
      "Enter the start node: 0\n",
      "Enter the goal node: 3\n",
      "\n",
      "Costs from 0 to: \n",
      "0  :  0\n",
      "2  :  80\n",
      "1  :  99\n",
      "3  :  177\n",
      "\n",
      "Goal reached with cost: 177\n"
     ]
    }
   ],
   "source": [
    "def UCS(graph, start, goal):\n",
    "    frontier = {start:0}\n",
    "    explored = []\n",
    "\n",
    "    while True:\n",
    "        if len(frontier) == 0:\n",
    "            return 'FAIL'\n",
    "\n",
    "        node = min(frontier, key=frontier.get)\n",
    "        value = frontier[node]\n",
    "        print(node, \" : \", value)\n",
    "\n",
    "        del frontier[node]\n",
    "\n",
    "        if goal == node:\n",
    "            return value\n",
    "        explored.append(node)\n",
    "\n",
    "        for neighbour, pathCost in graph[node].items():\n",
    "            if neighbour not in explored or neighbour not in frontier:\n",
    "                frontier.update({neighbour : value + pathCost})\n",
    "            elif neighbour in frontier and pathCost > value:\n",
    "                frontier.update({neighbour: value})\n",
    "\n",
    "graph = {0: {1: 99, 2: 80},\n",
    "         1: {4: 211},\n",
    "         2: {3: 97},\n",
    "         3: {4: 101},\n",
    "         4: {}}\n",
    "\n",
    "start_node = int(input(\"Enter the start node: \"))\n",
    "goal_node = int(input(\"Enter the goal node: \"))\n",
    "\n",
    "if start_node not in graph:\n",
    "    print(f\"\\n{start_node} is not in the graph.\")\n",
    "elif goal_node not in graph:\n",
    "    print(f\"\\n{goal_node} is not in the graph.\")\n",
    "else:\n",
    "    print(f\"\\nCosts from {start_node} to: \")\n",
    "    result = UCS(graph, start_node, goal_node)\n",
    "\n",
    "    if result == \"FAIL\":\n",
    "        print(\"\\nGoal node not reached.\")\n",
    "    else:\n",
    "        print(f\"\\nGoal reached with cost: {result}\")"
   ]
  },
  {
   "cell_type": "markdown",
   "id": "32b2053b",
   "metadata": {},
   "source": [
    "##  Iterative Depth Frst Search"
   ]
  },
  {
   "cell_type": "code",
   "execution_count": 8,
   "id": "e0971d4d",
   "metadata": {},
   "outputs": [
    {
     "name": "stdout",
     "output_type": "stream",
     "text": [
      "Enter the start node: A\n",
      "Enter the goal node: H\n",
      "\n",
      "Depth 0:\n",
      "\n",
      "Depth 1:\n",
      "A \n",
      "Depth 2:\n",
      "A B C \n",
      "Depth 3:\n",
      "A B D \n",
      "Goal node found.\n"
     ]
    }
   ],
   "source": [
    "def IDFS(graph, start, goal):\n",
    "    for depth in range(100):\n",
    "        print(f\"\\nDepth {depth}:\")\n",
    "        result = DLS(graph, start, goal, depth)\n",
    "        if result != 'LIMIT':\n",
    "            return result\n",
    "\n",
    "graph={\n",
    "    'A':['B','C'],\n",
    "    'B':['D','E'],\n",
    "    'C':['F'],\n",
    "    'D':['G','H'],\n",
    "    'E':[],\n",
    "    'F':['I','K'],\n",
    "    'G':[],\n",
    "    'H':['L'],\n",
    "    'I':[],\n",
    "    'K':['M'],\n",
    "    'L':[],\n",
    "    'M':[]\n",
    "}\n",
    "# graph = {0: [1, 2], another example if want \n",
    "#          1: [3, 4],\n",
    "#          2: [5],\n",
    "#          3: [6, 7],\n",
    "#          4: [],\n",
    "#          5: [8, 10],\n",
    "#          6: [],\n",
    "#          7: [11],\n",
    "#          8: [],\n",
    "#          10: [12],\n",
    "#          11: [],\n",
    "#          12: []}\n",
    "\n",
    "start_node = input(\"Enter the start node: \")\n",
    "goal_node = input(\"Enter the goal node: \")\n",
    "\n",
    "result = IDFS(graph, start_node, goal_node)\n",
    "\n",
    "if result == \"GOAL\":\n",
    "    print(\"\\nGoal node found.\")\n",
    "else:\n",
    "    print(\"\\nGoal node not found.\")"
   ]
  }
 ],
 "metadata": {
  "kernelspec": {
   "display_name": "Python 3 (ipykernel)",
   "language": "python",
   "name": "python3"
  },
  "language_info": {
   "codemirror_mode": {
    "name": "ipython",
    "version": 3
   },
   "file_extension": ".py",
   "mimetype": "text/x-python",
   "name": "python",
   "nbconvert_exporter": "python",
   "pygments_lexer": "ipython3",
   "version": "3.9.7"
  }
 },
 "nbformat": 4,
 "nbformat_minor": 5
}
