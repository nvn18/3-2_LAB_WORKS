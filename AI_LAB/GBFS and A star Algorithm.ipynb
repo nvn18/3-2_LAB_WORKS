{
 "cells": [
  {
   "cell_type": "markdown",
   "id": "aef469c5",
   "metadata": {},
   "source": [
    "## Implement the following \n",
    "      a. Greedy Best First Search \n",
    "      b. A* algorithm \n"
   ]
  },
  {
   "cell_type": "code",
   "execution_count": 24,
   "id": "3a93f3d1",
   "metadata": {},
   "outputs": [],
   "source": [
    "Area_dis_path = {\n",
    "    'A': {'S': 140, 'T': 118, 'Z': 75},\n",
    "    'B': {'F': 211, 'G': 90, 'P': 101, 'U': 85},\n",
    "    'C': {'D': 120, 'P': 138, 'R': 146},\n",
    "    'D': {'C': 120, 'M': 75},\n",
    "    'E': {'H': 86},\n",
    "    'F': {'B': 211, 'S': 99},\n",
    "    'G': {'B': 90},\n",
    "    'H': {'E': 86, 'U': 98},\n",
    "    'I': {'N': 87, 'V': 92},\n",
    "    'L': {'M': 70, 'T': 111},\n",
    "    'M': {'D': 75, 'L': 70},\n",
    "    'N': {'I': 87},\n",
    "    'O': {'S': 151, 'Z': 71},\n",
    "    'P': {'B': 101, 'C': 138, 'R': 97},\n",
    "    'R': {'C': 146, 'P': 97, 'S': 80},\n",
    "    'S': {'A': 140, 'F': 99, 'O': 151, 'R': 80},\n",
    "    'T': {'A': 118, 'L': 111},\n",
    "    'U': {'B': 85, 'H': 98, 'V': 142},\n",
    "    'V': {'I': 92, 'U': 142},\n",
    "    'Z': {'A': 75, 'O': 71}\n",
    "}\n",
    "\n",
    "hSLD = {'A': 366, 'B': 0, 'C': 160, 'D': 242, 'E': 161, 'F': 176, 'G': 77,\n",
    "        'H': 151, 'I': 226, 'L': 244, 'M': 241, 'N': 234, 'O': 380, 'P': 100,\n",
    "        'R': 193, 'S': 253, 'T': 329, 'U': 80, 'V': 199, 'Z': 374\n",
    "       }"
   ]
  },
  {
   "cell_type": "code",
   "execution_count": 25,
   "id": "7a64d00c",
   "metadata": {},
   "outputs": [],
   "source": [
    "# greedy best frst search\n",
    "def GBFS(problem,h,intial,goal):\n",
    "    node = intial\n",
    "    frontier = {intial :h[intial]}\n",
    "    explored = [intial]\n",
    "    \n",
    "    while True:\n",
    "        node = min(frontier, key = frontier.get)\n",
    "        print(node,':',frontier[node])\n",
    "\n",
    "        del frontier[node]\n",
    "        \n",
    "        if(node == goal):\n",
    "            print(\"goal reached\")\n",
    "            return \n",
    "        for neghi in problem[node]:\n",
    "            if neghi not in explored:\n",
    "                explored.append(neghi)\n",
    "                frontier[neghi] = h[neghi]\n",
    "            \n",
    "    return \"Goal node not found!\"\n",
    "        \n",
    "        \n",
    "        "
   ]
  },
  {
   "cell_type": "code",
   "execution_count": 26,
   "id": "0a32d033",
   "metadata": {},
   "outputs": [
    {
     "name": "stdout",
     "output_type": "stream",
     "text": [
      "A : 366\n",
      "S : 253\n",
      "F : 176\n",
      "B : 0\n",
      "goal reached\n"
     ]
    }
   ],
   "source": [
    "GBFS(Area_dis_path,hSLD,'A','B')"
   ]
  },
  {
   "cell_type": "code",
   "execution_count": 27,
   "id": "953a5d13",
   "metadata": {},
   "outputs": [],
   "source": [
    "# A* Algorithm\n",
    "def Astar_Algorithm(problem , h , intial , goal):\n",
    "    node = intial\n",
    "    frontier = {intial:h[intial]+0}\n",
    "    pa_Cost  = {node : 0}\n",
    "    explored = set(node)\n",
    "    \n",
    "    while True:\n",
    "        node = min(frontier, key = frontier.get)\n",
    "        value = frontier[node]\n",
    "        print(node,\":\",value)\n",
    "        \n",
    "        del frontier[node]\n",
    "        \n",
    "        if node == goal:\n",
    "            print(\"goal reached\")\n",
    "            return\n",
    "        for child in problem[node]:\n",
    "            if child not in explored or child not in frontier:\n",
    "                explored.add(child)\n",
    "                pa_Cost[child] = pa_Cost[node] + problem[node][child]\n",
    "                frontier[child] = pa_Cost[child] + h[child]\n",
    "            elif child in frontier and problem[node][child] + pa_Cost[node] + h[child] < frontier[child]:\n",
    "                pa_Cost[child] = pa_Cost[node] + problem[node][child]\n",
    "                frontier[child] = pa_Cost[child] + h[child]\n",
    "                \n",
    "    return \"Goal state not found\"\n",
    "    "
   ]
  },
  {
   "cell_type": "code",
   "execution_count": 29,
   "id": "58f96e08",
   "metadata": {},
   "outputs": [
    {
     "name": "stdout",
     "output_type": "stream",
     "text": [
      "A : 366\n",
      "S : 393\n",
      "R : 413\n",
      "F : 415\n",
      "P : 417\n",
      "B : 418\n",
      "goal reached\n"
     ]
    }
   ],
   "source": [
    "Astar_Algorithm(Area_dis_path , hSLD , \"A\" , \"B\")"
   ]
  }
 ],
 "metadata": {
  "kernelspec": {
   "display_name": "Python 3 (ipykernel)",
   "language": "python",
   "name": "python3"
  },
  "language_info": {
   "codemirror_mode": {
    "name": "ipython",
    "version": 3
   },
   "file_extension": ".py",
   "mimetype": "text/x-python",
   "name": "python",
   "nbconvert_exporter": "python",
   "pygments_lexer": "ipython3",
   "version": "3.9.7"
  }
 },
 "nbformat": 4,
 "nbformat_minor": 5
}
