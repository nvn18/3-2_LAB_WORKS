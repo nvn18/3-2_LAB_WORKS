{
 "cells": [
  {
   "cell_type": "markdown",
   "id": "a21d9a4a",
   "metadata": {},
   "source": [
    "# implement Game trees Using:\n",
    "      a) MIN_MAX ALGORITHM\n",
    "      b) ALPHA-BETA PRUNING"
   ]
  },
  {
   "cell_type": "markdown",
   "id": "c7227951",
   "metadata": {},
   "source": [
    "## MIN_MAX_ALGORITHM"
   ]
  },
  {
   "cell_type": "code",
   "execution_count": 26,
   "id": "3a3c7ab9",
   "metadata": {},
   "outputs": [],
   "source": [
    "# MIN_MAX ALGORITHM\n",
    "\n",
    "graph={'a':['b','c'],\n",
    "       'b':['d','e'],\n",
    "       'c':['f','g'],\n",
    "       'd':[3,5],\n",
    "       'e':[17,8],\n",
    "       'f':[-2,5],\n",
    "       'g':[-1,7]}"
   ]
  },
  {
   "cell_type": "code",
   "execution_count": 14,
   "id": "f5609ba2",
   "metadata": {},
   "outputs": [],
   "source": [
    "def search(node,search_content):\n",
    "    if type(graph[node][0])==str:\n",
    "        v=[]\n",
    "        if search_content=='MAX':\n",
    "            for i in graph[node]:\n",
    "                v.append(search(i,'MIN'))\n",
    "            return max(v)\n",
    "        else:\n",
    "            for i in graph[node]:\n",
    "                v.append(search(i,'MAX'))\n",
    "            return min(v)\n",
    "    else:\n",
    "        if search_content=='MAX':\n",
    "            return max(graph[node])\n",
    "        else:\n",
    "            return min(graph[node])"
   ]
  },
  {
   "cell_type": "code",
   "execution_count": 15,
   "id": "e89db3f4",
   "metadata": {},
   "outputs": [
    {
     "name": "stdout",
     "output_type": "stream",
     "text": [
      "Enter the node in the grapha\n",
      "Enter the Content(MAX / MIN):MAX\n",
      "The Optimal Value in the Graph: 5\n"
     ]
    }
   ],
   "source": [
    "node = input(\"Enter the node in the graph\")\n",
    "search_content = input(\"Enter the Content(MAX / MIN):\")\n",
    "result = search(node,search_content)\n",
    "print(\"The Optimal Value in the Graph:\",result)"
   ]
  },
  {
   "cell_type": "markdown",
   "id": "01481f14",
   "metadata": {},
   "source": [
    "## ALPHA_BETA_PRUNING"
   ]
  },
  {
   "cell_type": "code",
   "execution_count": 54,
   "id": "2b2e996e",
   "metadata": {},
   "outputs": [],
   "source": [
    "#example 1\n",
    "'''graph2={'a':['b','c'],\n",
    "       'b':[3,7],\n",
    "        'c':[10,11,4]\n",
    "       }'''\n",
    "#example 2\n",
    "'''graph={'a':['b','c'],\n",
    "       'b':['d','e'],\n",
    "       'c':['f','g'],\n",
    "       'd':[3,5],\n",
    "       'e':[17,8],\n",
    "       'f':[-2,5],\n",
    "       'g':[-1,7]}'''\n",
    "#example 3\n",
    "graph2 = {\n",
    "    'a': ['b', 'c'],\n",
    "    'b': ['d', 'e'],\n",
    "    'c': ['f', 'g'],\n",
    "    'd': [4, 3],\n",
    "    'e': [6, 2],\n",
    "    'f': [2, 1],\n",
    "    'g': [9, 5]\n",
    "}"
   ]
  },
  {
   "cell_type": "code",
   "execution_count": 45,
   "id": "288abde2",
   "metadata": {},
   "outputs": [],
   "source": [
    "# ALPHA_BETA_PRUNING\n",
    "\n",
    "import math\n",
    "def alpha_beta(game,state):\n",
    "    \n",
    "    def maxValue(game, state, alpha, beta):\n",
    "            if state not in game:\n",
    "                return state\n",
    "            v = -math.inf\n",
    "            for a in game[state]:\n",
    "                v = max(v, minValue(game, a, alpha, beta))\n",
    "                if v >= beta:\n",
    "                    return v\n",
    "                alpha = max(alpha, v)\n",
    "            print(f\"State:{state}, V={v}, Alpha={alpha}, Beta={beta}\")\n",
    "            return v\n",
    "        \n",
    "        \n",
    "    def minValue(game,state,alpha,beta):\n",
    "        if state not in game:\n",
    "            return state\n",
    "        v = math.inf\n",
    "        for a in game[state]:\n",
    "            v = min(v,maxValue(game,a,alpha,beta))\n",
    "            if v<=alpha:\n",
    "                return v\n",
    "            beta = min(beta,v)\n",
    "        print(f\"State:{state}, V={v}, Alpha={alpha}, Beta={beta}\")\n",
    "        return v\n",
    "    \n",
    "    \n",
    "    global alpha\n",
    "    global beta\n",
    "    \n",
    "    alpha = -math.inf\n",
    "    beta = math.inf\n",
    "    \n",
    "    v = maxValue(game,state,alpha,beta)\n",
    "    return v"
   ]
  },
  {
   "cell_type": "code",
   "execution_count": 53,
   "id": "89d1ac3f",
   "metadata": {},
   "outputs": [
    {
     "name": "stdout",
     "output_type": "stream",
     "text": [
      "Enter the Node value according to graph:a\n",
      "State:d, V=4, Alpha=4, Beta=inf\n",
      "State:b, V=4, Alpha=-inf, Beta=4\n",
      "State:f, V=2, Alpha=4, Beta=inf\n",
      "State:a, V=4, Alpha=4, Beta=inf\n",
      "The Final Optimal Value is: 4\n"
     ]
    }
   ],
   "source": [
    "node = input(\"Enter the Node value according to graph:\")\n",
    "result = alpha_beta(graph2,node)\n",
    "print(\"The Final Optimal Value is:\",result)"
   ]
  }
 ],
 "metadata": {
  "kernelspec": {
   "display_name": "Python 3 (ipykernel)",
   "language": "python",
   "name": "python3"
  },
  "language_info": {
   "codemirror_mode": {
    "name": "ipython",
    "version": 3
   },
   "file_extension": ".py",
   "mimetype": "text/x-python",
   "name": "python",
   "nbconvert_exporter": "python",
   "pygments_lexer": "ipython3",
   "version": "3.11.3"
  }
 },
 "nbformat": 4,
 "nbformat_minor": 5
}
