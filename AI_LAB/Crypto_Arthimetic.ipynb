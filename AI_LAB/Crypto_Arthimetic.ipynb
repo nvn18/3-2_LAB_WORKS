{
 "cells": [
  {
   "cell_type": "markdown",
   "id": "d17f73cf",
   "metadata": {},
   "source": [
    "## Crypt_Arithmetic"
   ]
  },
  {
   "cell_type": "code",
   "execution_count": 53,
   "id": "6da11e04",
   "metadata": {},
   "outputs": [],
   "source": [
    "def solve_cryptarithmetic(puzzle):\n",
    "    # Extract distinct letters from the puzzle\n",
    "    letters = list(set(char for word in puzzle for char in word))\n",
    "    \n",
    "    # Initialize a dictionary to store the mapping of letters to digits\n",
    "    letter_to_digit = {}\n",
    "\n",
    "    # Define a recursive function for backtracking\n",
    "    def backtrack(index):\n",
    "        # If all letters are assigned, check if the puzzle is valid\n",
    "        if index == len(letters):\n",
    "            if is_valid():\n",
    "                return True\n",
    "            return False\n",
    "\n",
    "        # Try assigning digits to the current letter\n",
    "        for digit in range(10):\n",
    "            # Skip if the digit is already assigned\n",
    "            if digit not in letter_to_digit.values():\n",
    "                letter_to_digit[letters[index]] = digit\n",
    "\n",
    "                # Recur to the next letter\n",
    "                if backtrack(index + 1):\n",
    "                    return True\n",
    "\n",
    "                # Backtrack: undo the assignment if it doesn't lead to a solution\n",
    "                del letter_to_digit[letters[index]]\n",
    "\n",
    "        return False\n",
    "\n",
    "    # Define a function to check if the puzzle is valid\n",
    "    def is_valid():\n",
    "        # Convert the puzzle into a numeric expression\n",
    "        numeric_puzzle = [int(''.join([str(letter_to_digit[char]) for char in word])) for word in puzzle[:-1]]\n",
    "        # Check if the sum is equal to the last word\n",
    "        return sum(numeric_puzzle) == int(''.join([str(letter_to_digit[char]) for char in puzzle[-1]]))\n",
    "\n",
    "    if backtrack(0):\n",
    "        return letter_to_digit\n",
    "    else:\n",
    "        return None"
   ]
  },
  {
   "cell_type": "code",
   "execution_count": 12,
   "id": "304be299",
   "metadata": {},
   "outputs": [
    {
     "name": "stdout",
     "output_type": "stream",
     "text": [
      "{'W': 1, 'R': 6, 'O': 8, 'F': 0, 'T': 4, 'U': 3}\n"
     ]
    }
   ],
   "source": [
    "puzzle_example = ['TWO', 'TWO', 'FOUR']\n",
    "solution = solve_cryptarithmetic(puzzle_example)\n",
    "'''if solution:\n",
    "    print(\"Solution Found:\", solution)\n",
    "else:\n",
    "    print(\"Solution Not Found\")'''\n",
    "print(solution)"
   ]
  }
 ],
 "metadata": {
  "kernelspec": {
   "display_name": "Python 3 (ipykernel)",
   "language": "python",
   "name": "python3"
  },
  "language_info": {
   "codemirror_mode": {
    "name": "ipython",
    "version": 3
   },
   "file_extension": ".py",
   "mimetype": "text/x-python",
   "name": "python",
   "nbconvert_exporter": "python",
   "pygments_lexer": "ipython3",
   "version": "3.10.9"
  }
 },
 "nbformat": 4,
 "nbformat_minor": 5
}
