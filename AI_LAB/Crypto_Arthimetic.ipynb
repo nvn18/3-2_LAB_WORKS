{
 "cells": [
  {
   "cell_type": "markdown",
   "id": "d17f73cf",
   "metadata": {},
   "source": [
    "## Crypt_Arithmetic"
   ]
  },
  {
   "cell_type": "code",
   "execution_count": 14,
   "id": "6da11e04",
   "metadata": {},
   "outputs": [],
   "source": [
    "def solve_cryptarithmetic(puzzle):\n",
    "    letters = list(set(char for word in puzzle for char in word))\n",
    "    letters.remove(puzzle[2][0])\n",
    "    letter_to_digit = {}\n",
    "    letter_to_digit[puzzle[2][0]] = 1\n",
    "    \n",
    "    def backtrack(index):\n",
    "        if index == len(letters):\n",
    "            if is_valid():\n",
    "                return True\n",
    "            return False\n",
    "\n",
    "        for digit in [0,2,3,4,5,6,7,8,9]:\n",
    "            if digit not in letter_to_digit.values():\n",
    "                letter_to_digit[letters[index]] = digit\n",
    "\n",
    "                if backtrack(index + 1):\n",
    "                    return True\n",
    "\n",
    "                del letter_to_digit[letters[index]]\n",
    "\n",
    "        return False\n",
    "\n",
    "    def is_valid():\n",
    "        numeric_puzzle = [int(''.join([str(letter_to_digit[char]) for char in word])) for word in puzzle[:-1]]\n",
    "        return sum(numeric_puzzle) == int(''.join([str(letter_to_digit[char]) for char in puzzle[-1]]))\n",
    "\n",
    "    if backtrack(0):\n",
    "        return letter_to_digit\n",
    "    else:\n",
    "        return None"
   ]
  },
  {
   "cell_type": "code",
   "execution_count": 26,
   "id": "304be299",
   "metadata": {},
   "outputs": [
    {
     "name": "stdout",
     "output_type": "stream",
     "text": [
      "SEND MORE MONEY\n",
      "M\n",
      "S\n",
      "R\n",
      "O\n",
      "N\n",
      "Y\n",
      "E\n",
      "D\n",
      "{'M': 1, 'S': 9, 'R': 8, 'O': 0, 'N': 6, 'Y': 2, 'E': 5, 'D': 7}\n"
     ]
    }
   ],
   "source": [
    "puzzle_example = [x for x in input().split()]\n",
    "solution = solve_cryptarithmetic(puzzle_example)\n",
    "for i in solution:\n",
    "    print(i)\n",
    "print(solution)"
   ]
  }
 ],
 "metadata": {
  "kernelspec": {
   "display_name": "Python 3 (ipykernel)",
   "language": "python",
   "name": "python3"
  },
  "language_info": {
   "codemirror_mode": {
    "name": "ipython",
    "version": 3
   },
   "file_extension": ".py",
   "mimetype": "text/x-python",
   "name": "python",
   "nbconvert_exporter": "python",
   "pygments_lexer": "ipython3",
   "version": "3.11.3"
  }
 },
 "nbformat": 4,
 "nbformat_minor": 5
}
