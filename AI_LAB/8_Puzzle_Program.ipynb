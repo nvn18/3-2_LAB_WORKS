{
 "cells": [
  {
   "cell_type": "markdown",
   "id": "8eedef2c",
   "metadata": {},
   "source": [
    "## 8_Puzzle_Program"
   ]
  },
  {
   "cell_type": "code",
   "execution_count": 40,
   "id": "a35be0fb",
   "metadata": {},
   "outputs": [],
   "source": [
    "import copy\n",
    "start=[[2,8,3],[1,6,4],[7,None,5]]\n",
    "goal=[[1,2,3],[8,None,4],[7,6,5]]\n",
    "def cal_huer(l):\n",
    "    c=0\n",
    "    for i in range(3):\n",
    "        for j in range(3):\n",
    "            if l[i][j]!=goal[i][j]:\n",
    "                c+=1\n",
    "    return c\n",
    "v=cal_huer(start)\n",
    "d={0:{'val':start,'p':0,'h':v,'f':0+v}}\n",
    "k=0"
   ]
  },
  {
   "cell_type": "code",
   "execution_count": 41,
   "id": "f07c8418",
   "metadata": {},
   "outputs": [
    {
     "name": "stdout",
     "output_type": "stream",
     "text": [
      "frontier =  [0]\n",
      "explored =  []\n",
      "frontier =  [3, 1, 2]\n",
      "explored =  [0]\n",
      "frontier =  [4, 5, 1, 2, 6, 7]\n",
      "explored =  [0, 3]\n",
      "frontier =  [5, 8, 10, 1, 2, 6, 7, 9]\n",
      "explored =  [0, 3, 4]\n",
      "frontier =  [8, 10, 1, 2, 6, 7, 11, 9, 12]\n",
      "explored =  [0, 3, 4, 5]\n",
      "frontier =  [10, 13, 1, 2, 6, 7, 11, 9, 12, 14]\n",
      "explored =  [0, 3, 4, 5, 8]\n",
      "frontier =  [13, 1, 2, 6, 7, 11, 9, 12, 14, 15]\n",
      "explored =  [0, 3, 4, 5, 8, 10]\n",
      "frontier =  [18, 1, 2, 6, 7, 11, 9, 12, 14, 15, 16, 17]\n",
      "explored =  [0, 3, 4, 5, 8, 10, 13]\n",
      "the path found  [0, 3, 4, 5, 8, 10, 13, 18]\n"
     ]
    }
   ],
   "source": [
    "def check(val):\n",
    "    for i in d:\n",
    "        if d[i]['val']==val:\n",
    "            return False\n",
    "    return True\n",
    "\n",
    "def change(v,i,j,k,l):\n",
    "    val=copy.deepcopy(v)\n",
    "    temp=val[i][j]\n",
    "    val[i][j]=None\n",
    "    val[k][l]=temp\n",
    "    return val  \n",
    "flag=0\n",
    "frontier,explored=[0],[]\n",
    "while frontier :\n",
    "    print('frontier = ',frontier)\n",
    "    print('explored = ',explored)\n",
    "    n=frontier.pop(0)\n",
    "    v=d[n]['val']\n",
    "    if v==goal:\n",
    "        flag=1\n",
    "        explored.append(n)\n",
    "        print(\"the path found \",explored)\n",
    "        break\n",
    "    p=d[n]['p']\n",
    "    l=[]\n",
    "    if v[1][1]==None:\n",
    "        l.append(change(v,0,1,1,1))\n",
    "        l.append(change(v,1,0,1,1))\n",
    "        l.append(change(v,1,2,1,1))\n",
    "        l.append(change(v,2,1,1,1))\n",
    "    elif v[0][0]==None:\n",
    "        l.append(change(v,1,0,0,0))\n",
    "        l.append(change(v,0,1,0,0))\n",
    "    elif v[0][2]==None:\n",
    "        l.append(change(v,1,2,0,2))\n",
    "        l.append(change(v,0,1,0,2))\n",
    "    elif v[2][0]==None:\n",
    "        l.append(change(v,1,0,2,0))\n",
    "        l.append(change(v,2,1,2,0))\n",
    "    elif v[2][2]==None:\n",
    "        l.append(change(v,1,2,2,2))\n",
    "        l.append(change(v,2,1,2,2))\n",
    "    elif v[0][1]==None:\n",
    "        l.append(change(v,0,0,0,1))\n",
    "        l.append(change(v,0,2,0,1))\n",
    "        l.append(change(v,1,1,0,1))\n",
    "    elif v[1][0]==None:\n",
    "        l.append(change(v,0,0,1,0))\n",
    "        l.append(change(v,2,0,1,0))\n",
    "        l.append(change(v,1,1,1,0))\n",
    "    elif v[1][2]==None:\n",
    "        l.append(change(v,0,2,1,2))\n",
    "        l.append(change(v,2,2,1,2))\n",
    "        l.append(change(v,1,1,1,2))\n",
    "    else:\n",
    "        l.append(change(v,2,0,2,1))\n",
    "        l.append(change(v,2,2,2,1))\n",
    "        l.append(change(v,1,1,2,1))\n",
    "\n",
    "    for val in l:\n",
    "        if check(val):\n",
    "            k+=1\n",
    "            h_val=cal_huer(val)\n",
    "            d1={k:{'val':val,'p':p+1,'h':h_val,'f':p+1+h_val}}\n",
    "            d.update(d1)\n",
    "            frontier.append(k)\n",
    "   \n",
    "    explored.append(n)\n",
    "    d.pop(n)\n",
    "    z=[]\n",
    "   \n",
    "    for i in frontier:\n",
    "        value=d[i]['f']\n",
    "        z.append((value,i))\n",
    "    frontier=[x for _,x in sorted(z)]"
   ]
  },
  {
   "cell_type": "code",
   "execution_count": 42,
   "id": "667d1ea1",
   "metadata": {},
   "outputs": [
    {
     "name": "stdout",
     "output_type": "stream",
     "text": [
      "found the path \n"
     ]
    }
   ],
   "source": [
    "if flag==0:\n",
    "    print(\"the path does not exist\")\n",
    "else:\n",
    "    print(\"found the path \")"
   ]
  }
 ],
 "metadata": {
  "kernelspec": {
   "display_name": "Python 3 (ipykernel)",
   "language": "python",
   "name": "python3"
  },
  "language_info": {
   "codemirror_mode": {
    "name": "ipython",
    "version": 3
   },
   "file_extension": ".py",
   "mimetype": "text/x-python",
   "name": "python",
   "nbconvert_exporter": "python",
   "pygments_lexer": "ipython3",
   "version": "3.10.9"
  }
 },
 "nbformat": 4,
 "nbformat_minor": 5
}
