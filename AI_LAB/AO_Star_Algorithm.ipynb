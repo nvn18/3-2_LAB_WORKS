{
 "cells": [
  {
   "cell_type": "markdown",
   "id": "e028cb2e",
   "metadata": {},
   "source": [
    "## AO * Algorithm"
   ]
  },
  {
   "cell_type": "code",
   "execution_count": 17,
   "id": "0d215c6a",
   "metadata": {},
   "outputs": [],
   "source": [
    "def main():\n",
    "    graph = {0: {'value': [first_block, second_block], 'position': vacuum_position, 'descendants': [], 'parent': None}}\n",
    "    frontier, explored = [0], []\n",
    "    reached = []\n",
    "    node_count = 0\n",
    "\n",
    "    def check_and_update(value, position, node):\n",
    "        nonlocal node_count\n",
    "        if value == [0, 0]:\n",
    "            node_count += 1\n",
    "            graph.update({node_count: {'value': value, 'position': position, 'descendants': [], 'parent': node}})\n",
    "            graph[node]['descendants'].append(node_count)\n",
    "            frontier.append(node_count)\n",
    "            return\n",
    "\n",
    "        for i in graph:\n",
    "            if graph[i]['value'] == value and graph[i]['position'] == position:\n",
    "                return\n",
    "        node_count += 1\n",
    "        graph.update({node_count: {'value': value, 'position': position, 'descendants': [], 'parent': node}})\n",
    "        graph[node]['descendants'].append(node_count)\n",
    "        frontier.append(node_count)\n",
    "\n",
    "    def suck_and_check(value, position):\n",
    "        if position == 'L':\n",
    "            if value[0] == 1:\n",
    "                check_and_update([0, value[1]], 'L', node)\n",
    "            if value[0] == 1 and value[1] == 1:\n",
    "                check_and_update([0, 0], 'L', node)\n",
    "            if value[0] == 0:\n",
    "                pass\n",
    "            if value[0] == 0:\n",
    "                check_and_update([1, value[1]], 'L', node)\n",
    "        if position == 'R':\n",
    "            if value[1] == 1:\n",
    "                check_and_update([value[0], 0], 'R', node)\n",
    "            if value[0] == 1 and value[1] == 1:\n",
    "                check_and_update([0, 0], 'R', node)\n",
    "            if value[1] == 0:\n",
    "                pass\n",
    "            if value[1] == 0:\n",
    "                check_and_update([value[0], 1], 'R', node)\n",
    "\n",
    "    while frontier:\n",
    "        node = frontier.pop(0)\n",
    "        if graph[node]['value'] == [0, 0]:\n",
    "            reached.append(node)\n",
    "            continue\n",
    "        position = graph[node]['position']\n",
    "        value = graph[node]['value']\n",
    "        if position == 'L':\n",
    "            check_and_update(value, 'R', node)\n",
    "            suck_and_check(value, 'L')\n",
    "        if position == 'R':\n",
    "            check_and_update(value, 'L', node)\n",
    "            suck_and_check(value, 'R')\n",
    "        explored.append(node)\n",
    "\n",
    "    for i in reached:\n",
    "        print(\"Path:\")\n",
    "        path = []\n",
    "        current_node = i\n",
    "        while current_node:\n",
    "            path.append(current_node)\n",
    "            current_node = graph[current_node]['parent']\n",
    "        path.append(0)\n",
    "        print(path[::-1])\n",
    "\n",
    "    print('Explored nodes: ', explored)"
   ]
  },
  {
   "cell_type": "code",
   "execution_count": 18,
   "id": "e16b5f4c",
   "metadata": {},
   "outputs": [
    {
     "name": "stdout",
     "output_type": "stream",
     "text": [
      "Enter whether the 1st block contains dirt - Enter 1 for yes and 0 for No: 1\n",
      "Enter whether the second block contains dirt - Enter 1 for yes and 0 for No: 0\n",
      "Enter the position of the vacuum cleaner - Enter the letter in Caps(L or R): L\n",
      "Path:\n",
      "[0, 2]\n",
      "Path:\n",
      "[0, 1, 3, 5]\n",
      "Path:\n",
      "[0, 1, 3, 4, 7]\n",
      "Path:\n",
      "[0, 1, 3, 4, 6, 8, 9]\n",
      "Explored nodes:  [0, 1, 3, 4, 6, 8]\n"
     ]
    }
   ],
   "source": [
    "if __name__ == \"__main__\":\n",
    "    first_block = int(input(\"Enter whether the 1st block contains dirt - Enter 1 for yes and 0 for No: \"))\n",
    "    second_block = int(input(\"Enter whether the second block contains dirt - Enter 1 for yes and 0 for No: \"))\n",
    "    vacuum_position = input(\"Enter the position of the vacuum cleaner - Enter the letter in Caps(L or R): \")\n",
    "    main()"
   ]
  }
 ],
 "metadata": {
  "kernelspec": {
   "display_name": "Python 3 (ipykernel)",
   "language": "python",
   "name": "python3"
  },
  "language_info": {
   "codemirror_mode": {
    "name": "ipython",
    "version": 3
   },
   "file_extension": ".py",
   "mimetype": "text/x-python",
   "name": "python",
   "nbconvert_exporter": "python",
   "pygments_lexer": "ipython3",
   "version": "3.11.3"
  }
 },
 "nbformat": 4,
 "nbformat_minor": 5
}
