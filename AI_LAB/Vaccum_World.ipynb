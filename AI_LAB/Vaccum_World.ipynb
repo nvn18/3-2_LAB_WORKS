{
 "cells": [
  {
   "cell_type": "markdown",
   "id": "7fef619f-ccc6-4b85-af13-3633d7479b2b",
   "metadata": {},
   "source": [
    "# Vaccum World Problem"
   ]
  },
  {
   "cell_type": "code",
   "execution_count": 26,
   "id": "ddc75f71",
   "metadata": {},
   "outputs": [],
   "source": [
    "def suck(s,p):\n",
    "    if s[0]==0 and p=='L':\n",
    "        return s\n",
    "    elif s[1]==0 and p=='R':\n",
    "        return s\n",
    "    elif s[0]==1 and p=='L':\n",
    "        return [0,s[1]]\n",
    "    else:\n",
    "        return [s[0],0]\n",
    "\n",
    "def check(i):\n",
    "    l=[]\n",
    "    for j in d:\n",
    "        l.append([d[j]['state'],d[j]['pos']])\n",
    "    for v in l:\n",
    "        if v==i:\n",
    "            return False\n",
    "    return True"
   ]
  },
  {
   "cell_type": "code",
   "execution_count": 40,
   "id": "72d91256-37cb-4145-874f-8bf5e63d2d32",
   "metadata": {},
   "outputs": [
    {
     "name": "stdout",
     "output_type": "stream",
     "text": [
      "enter the pos of the vaccum cleanerL\n",
      "enter wether the left box contains dirt 1/0?1\n",
      "enter wether the right box has dirt 1/0?1\n",
      "the explored found :  [0, 1, 2, 3, 4, 5]\n",
      "{'state': [1, 1], 'pos': 'L', 'parent': None}\n",
      "{'state': [0, 1], 'pos': 'L', 'parent': 0}\n",
      "{'state': [0, 1], 'pos': 'R', 'parent': 1}\n",
      "{'state': [0, 0], 'pos': 'R', 'parent': 3}\n",
      "\n",
      "[0, 1, 3, 5]\n",
      "frontier =  [6]\n",
      "The exploration Path:\n",
      "[[1, 1], 'L']\n",
      "[[0, 1], 'L']\n",
      "[[1, 1], 'R']\n",
      "[[0, 1], 'R']\n",
      "[[1, 0], 'R']\n",
      "[[0, 0], 'R']\n"
     ]
    }
   ],
   "source": [
    "position=input(\"enter the pos of the vaccum cleaner\")\n",
    "room1=int(input(\"enter wether the left box contains dirt 1/0?\"))\n",
    "room2=int(input(\"enter wether the right box has dirt 1/0?\"))\n",
    "d={0:{'state':[room1,room2],'pos':position,'parent':None}}\n",
    "frontier,explored,Ex=[0],[],[]\n",
    "\n",
    "k=0\n",
    "while frontier:\n",
    "    n=frontier.pop(0)\n",
    "    explored.append(n)\n",
    "    s=d[n]['state']\n",
    "    p=d[n]['pos']\n",
    "    Ex.append([s,p])\n",
    "    if (s==[0,0] and p=='L') or (s==[0,0] and p=='R'):\n",
    "        print('the explored found : ',explored)\n",
    "        break\n",
    "    l=[]\n",
    "    if p=='L':\n",
    "        l.append([suck(s,p),'L'])\n",
    "        l.append([s,'R'])\n",
    "    elif p=='R':\n",
    "        l.append([suck(s,p),'R'])         \n",
    "        l.append([s,'L'])\n",
    "    for i in l:\n",
    "        if check(i):\n",
    "            k+=1\n",
    "            d.update({k:{'state':i[0],'pos':i[1],'parent':n}})\n",
    "            frontier.append(k)\n",
    "l=[]\n",
    "if explored[-1]==n:\n",
    "    while d[n]['parent']!=None:\n",
    "        l.append(n)\n",
    "        n=d[n]['parent']\n",
    "    l.append(0)\n",
    "    for i in l[::-1]:\n",
    "        print(d[i])\n",
    "else:\n",
    "    print('path not found')\n",
    "    \n",
    "print()\n",
    "print(l[::-1])  \n",
    "print('frontier = ',frontier)\n",
    "print(\"The exploration Path:\")\n",
    "for i in Ex:\n",
    "    print(i)"
   ]
  }
 ],
 "metadata": {
  "kernelspec": {
   "display_name": "Python 3 (ipykernel)",
   "language": "python",
   "name": "python3"
  },
  "language_info": {
   "codemirror_mode": {
    "name": "ipython",
    "version": 3
   },
   "file_extension": ".py",
   "mimetype": "text/x-python",
   "name": "python",
   "nbconvert_exporter": "python",
   "pygments_lexer": "ipython3",
   "version": "3.11.3"
  }
 },
 "nbformat": 4,
 "nbformat_minor": 5
}
