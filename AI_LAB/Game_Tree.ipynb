{
 "cells": [
  {
   "cell_type": "markdown",
   "id": "a21d9a4a",
   "metadata": {},
   "source": [
    "# implement Game trees Using:\n",
    "      a) MIN_MAX ALGORITHM\n",
    "      b) ALPHA-BETA PRUNING"
   ]
  },
  {
   "cell_type": "code",
   "execution_count": 11,
   "id": "3a3c7ab9",
   "metadata": {},
   "outputs": [],
   "source": [
    "# MIN_MAX ALGORITHM\n",
    "\n",
    "graph={'a':['b','c'],\n",
    "       'b':['d','e'],\n",
    "       'c':['f','g'],\n",
    "       'd':[3,5],\n",
    "       'e':[17,8],\n",
    "       'f':[-2,5],\n",
    "       'g':[-1,7]}"
   ]
  },
  {
   "cell_type": "code",
   "execution_count": 14,
   "id": "f5609ba2",
   "metadata": {},
   "outputs": [],
   "source": [
    "def search(node,search_content):\n",
    "    if type(graph[node][0])==str:\n",
    "        v=[]\n",
    "        if search_content=='MAX':\n",
    "            for i in graph[node]:\n",
    "                v.append(search(i,'MIN'))\n",
    "            return max(v)\n",
    "        else:\n",
    "            for i in graph[node]:\n",
    "                v.append(search(i,'MAX'))\n",
    "            return min(v)\n",
    "    else:\n",
    "        if search_content=='MAX':\n",
    "            return max(graph[node])\n",
    "        else:\n",
    "            return min(graph[node])"
   ]
  },
  {
   "cell_type": "code",
   "execution_count": 15,
   "id": "e89db3f4",
   "metadata": {},
   "outputs": [
    {
     "name": "stdout",
     "output_type": "stream",
     "text": [
      "Enter the node in the grapha\n",
      "Enter the Content(MAX / MIN):MAX\n",
      "The Optimal Value in the Graph: 5\n"
     ]
    }
   ],
   "source": [
    "node = input(\"Enter the node in the graph\")\n",
    "search_content = input(\"Enter the Content(MAX / MIN):\")\n",
    "result = search(node,search_content)\n",
    "print(\"The Optimal Value in the Graph:\",result)"
   ]
  }
 ],
 "metadata": {
  "kernelspec": {
   "display_name": "Python 3 (ipykernel)",
   "language": "python",
   "name": "python3"
  },
  "language_info": {
   "codemirror_mode": {
    "name": "ipython",
    "version": 3
   },
   "file_extension": ".py",
   "mimetype": "text/x-python",
   "name": "python",
   "nbconvert_exporter": "python",
   "pygments_lexer": "ipython3",
   "version": "3.11.3"
  }
 },
 "nbformat": 4,
 "nbformat_minor": 5
}
