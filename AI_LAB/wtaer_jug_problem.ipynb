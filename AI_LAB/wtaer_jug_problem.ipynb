{
 "cells": [
  {
   "cell_type": "markdown",
   "id": "14330bde",
   "metadata": {},
   "source": [
    "## water_jug_problem"
   ]
  },
  {
   "cell_type": "code",
   "execution_count": 5,
   "id": "2a16bcc0",
   "metadata": {},
   "outputs": [],
   "source": [
    "def generateStates(state, cap1, cap2):\n",
    "    x, y = state\n",
    "    # generate all possible successor states\n",
    "    states = []\n",
    "    if x < cap1:\n",
    "        states.append((cap1, y)) \n",
    "    if y < cap2:\n",
    "        states.append((x, cap2)) \n",
    "    if x > 0:\n",
    "        states.append((0, y)) \n",
    "    if y > 0:\n",
    "        states.append((x, 0)) \n",
    "    if x+y <= cap1 and y > 0:\n",
    "        states.append((x+y, 0)) \n",
    "    if x+y <= cap2 and x > 0:\n",
    "        states.append((0, x+y)) \n",
    "    if x+y >= cap1 and y > 0: \n",
    "        states.append((cap1, x+y-cap1)) \n",
    "    if x+y >= cap2 and x > 0:\n",
    "        states.append((x+y-cap2, cap2))\n",
    "    return states\n"
   ]
  },
  {
   "cell_type": "code",
   "execution_count": 6,
   "id": "2e507173",
   "metadata": {},
   "outputs": [],
   "source": [
    "def water_jug_problem(search, cap1, cap2, target):\n",
    "    state = (0, 0)\n",
    "    reached = {state:None}\n",
    "    frontier = [state]\n",
    "\n",
    "    if search == 'BFS':\n",
    "        popping = 0\n",
    "    elif search == 'DFS':\n",
    "        popping = -1\n",
    "    \n",
    "    while frontier:\n",
    "        state = frontier.pop(popping)\n",
    "        if state == (target, 0) or state == (0, target):\n",
    "            # goal state reached\n",
    "            path = []\n",
    "            while state:\n",
    "                path.append(state)\n",
    "                state = reached[state]\n",
    "            path.reverse()\n",
    "            return path\n",
    "\n",
    "        states = generateStates(state, cap1, cap2)\n",
    "            \n",
    "        for new_state in states:\n",
    "            if new_state not in reached:\n",
    "                reached[new_state] = state\n",
    "                frontier.append(new_state)\n",
    "    return None"
   ]
  },
  {
   "cell_type": "code",
   "execution_count": 8,
   "id": "733432b1",
   "metadata": {},
   "outputs": [
    {
     "name": "stdout",
     "output_type": "stream",
     "text": [
      "Enter capacity of first jug: 5\n",
      "Enter capacity of second jug: 3\n",
      "Enter target volume: 4\n",
      "BFS / DFS: BFS\n",
      "Solution path\n",
      "(0, 0)\n",
      "(5, 0)\n",
      "(2, 3)\n",
      "(2, 0)\n",
      "(0, 2)\n",
      "(5, 2)\n",
      "(4, 3)\n",
      "(4, 0)\n"
     ]
    }
   ],
   "source": [
    "cap1 = int(input(\"Enter capacity of first jug: \"))\n",
    "cap2 = int(input(\"Enter capacity of second jug: \"))\n",
    "target = int(input(\"Enter target volume: \"))\n",
    "algo = input(\"BFS / DFS: \")\n",
    "path = water_jug_problem(algo, cap1, cap2, target)\n",
    "\n",
    "if path is None:\n",
    "    print(\"No solution found.\")\n",
    "else:\n",
    "    print(\"Solution path\")\n",
    "    for state in path:\n",
    "        print(state)"
   ]
  }
 ],
 "metadata": {
  "kernelspec": {
   "display_name": "Python 3 (ipykernel)",
   "language": "python",
   "name": "python3"
  },
  "language_info": {
   "codemirror_mode": {
    "name": "ipython",
    "version": 3
   },
   "file_extension": ".py",
   "mimetype": "text/x-python",
   "name": "python",
   "nbconvert_exporter": "python",
   "pygments_lexer": "ipython3",
   "version": "3.11.3"
  }
 },
 "nbformat": 4,
 "nbformat_minor": 5
}
