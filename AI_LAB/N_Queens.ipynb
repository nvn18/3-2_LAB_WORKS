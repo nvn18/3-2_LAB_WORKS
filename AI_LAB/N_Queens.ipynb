{
 "cells": [
  {
   "cell_type": "markdown",
   "id": "c1de5651",
   "metadata": {},
   "source": [
    "## N_Qeens_Simple_Version"
   ]
  },
  {
   "cell_type": "code",
   "execution_count": 19,
   "id": "9e9f55b9",
   "metadata": {},
   "outputs": [],
   "source": [
    "def printSolution(X):\n",
    "    print(\" _ \"*len(X))\n",
    "    for i in range(1,len(X)):\n",
    "        print('| ', end='')\n",
    "        for j in range(1, len(X)):\n",
    "            if X[i] == j:\n",
    "                print(' Q ', end='')\n",
    "            else:\n",
    "                print(' . ', end='')\n",
    "        print('|')\n",
    "    print()\n",
    "\n",
    "\n",
    "def place(X, k, i):\n",
    "    for j in range(1,k):\n",
    "        if X[j] == i or abs(j-k) == abs(X[j] - i):\n",
    "            return False\n",
    "    return True\n",
    "\n",
    "def NQueens(X, k, N):\n",
    "    for i in range(1, len(X)):\n",
    "        if place(X, k, i):\n",
    "            X[k] = i\n",
    "\n",
    "            if k == N:\n",
    "                print(X[1:])\n",
    "                printSolution(X)\n",
    "            else:\n",
    "                NQueens(X, k+1, N)"
   ]
  },
  {
   "cell_type": "code",
   "execution_count": 2,
   "id": "06724f81",
   "metadata": {},
   "outputs": [
    {
     "name": "stdout",
     "output_type": "stream",
     "text": [
      "Enter the number of Queens: 4\n",
      "[2, 4, 1, 3]\n",
      " _  _  _  _  _ \n",
      "|  .  Q  .  . |\n",
      "|  .  .  .  Q |\n",
      "|  Q  .  .  . |\n",
      "|  .  .  Q  . |\n",
      "\n",
      "[3, 1, 4, 2]\n",
      " _  _  _  _  _ \n",
      "|  .  .  Q  . |\n",
      "|  Q  .  .  . |\n",
      "|  .  .  .  Q |\n",
      "|  .  Q  .  . |\n",
      "\n"
     ]
    }
   ],
   "source": [
    "if __name__ == \"__main__\":\n",
    "    N = int(input(\"Enter the number of Queens: \"))\n",
    "\n",
    "    X = [0] * (N+1)\n",
    "\n",
    "    NQueens(X, 1, N)"
   ]
  },
  {
   "cell_type": "markdown",
   "id": "eee2f46f",
   "metadata": {},
   "source": [
    "## N_Queens"
   ]
  },
  {
   "cell_type": "code",
   "execution_count": 22,
   "id": "a8b5251c",
   "metadata": {},
   "outputs": [],
   "source": [
    "def print_solution(board):\n",
    "    for row in board:\n",
    "        print(\" \".join('Q' if cell else '.' for cell in row))\n",
    "    print(\"\\n\")\n",
    "\n",
    "def is_safe(board, row, col):\n",
    "    for i in range(col):\n",
    "        if board[row][i]:\n",
    "            return False\n",
    "    for i, j in zip(range(row, -1, -1), range(col, -1, -1)):\n",
    "        if board[i][j]:\n",
    "            return False\n",
    "    for i, j in zip(range(row, len(board), 1), range(col, -1, -1)):\n",
    "        if board[i][j]:\n",
    "            return False\n",
    "    return True"
   ]
  },
  {
   "cell_type": "code",
   "execution_count": 23,
   "id": "4d2106dc",
   "metadata": {},
   "outputs": [],
   "source": [
    "def solve_nq_util(board, col):\n",
    "    if col >= len(board):\n",
    "        print_solution(board)\n",
    "        return True\n",
    "    res = False\n",
    "    for i in range(len(board)):\n",
    "        if is_safe(board, i, col):\n",
    "            board[i][col] = 1\n",
    "            res = solve_nq_util(board, col + 1) or res\n",
    "            board[i][col] = 0\n",
    "    return res\n",
    "           \n",
    "\n",
    "def solve_nq(N):\n",
    "    board = [[0 for _ in range(N)] for _ in range(N)]\n",
    "    if not solve_nq_util(board, 0):\n",
    "        print(\"Solution does not exist\")"
   ]
  },
  {
   "cell_type": "code",
   "execution_count": 24,
   "id": "bc72cd91",
   "metadata": {},
   "outputs": [
    {
     "name": "stdout",
     "output_type": "stream",
     "text": [
      "Enter the size of the chessboard (N): 4\n",
      ". . Q .\n",
      "Q . . .\n",
      ". . . Q\n",
      ". Q . .\n",
      "\n",
      "\n",
      ". Q . .\n",
      ". . . Q\n",
      "Q . . .\n",
      ". . Q .\n",
      "\n",
      "\n"
     ]
    }
   ],
   "source": [
    "N = int(input(\"Enter the size of the chessboard (N): \"))\n",
    "if N <= 0 or N > 100: \n",
    "    print(f\"Invalid board size. Please choose a value between 1 and 100\")\n",
    "else:\n",
    "    solve_nq(N)"
   ]
  }
 ],
 "metadata": {
  "kernelspec": {
   "display_name": "Python 3 (ipykernel)",
   "language": "python",
   "name": "python3"
  },
  "language_info": {
   "codemirror_mode": {
    "name": "ipython",
    "version": 3
   },
   "file_extension": ".py",
   "mimetype": "text/x-python",
   "name": "python",
   "nbconvert_exporter": "python",
   "pygments_lexer": "ipython3",
   "version": "3.10.9"
  }
 },
 "nbformat": 4,
 "nbformat_minor": 5
}
